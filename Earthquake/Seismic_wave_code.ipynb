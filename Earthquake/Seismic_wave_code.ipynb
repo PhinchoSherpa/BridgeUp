{
 "cells": [
  {
   "cell_type": "markdown",
   "metadata": {
    "deletable": true,
    "editable": true
   },
   "source": [
    "## Explore some professional seismic wave Python code\n",
    "This code uses a library called obspy, described as a Python Toolbox for seismology and seismological observatories. The code comes from the Physical Acoustics Laboratory in Aukland, New Zealand. "
   ]
  },
  {
   "cell_type": "code",
   "execution_count": 1,
   "metadata": {
    "collapsed": true,
    "deletable": true,
    "editable": true
   },
   "outputs": [],
   "source": [
    "from obspy import UTCDateTime\n",
    "import numpy as np\n",
    "import matplotlib.pyplot as plt\n",
    "from obspy import read\n",
    "from obspy.taup import TauPyModel"
   ]
  },
  {
   "cell_type": "code",
   "execution_count": 2,
   "metadata": {
    "collapsed": true,
    "deletable": true,
    "editable": true
   },
   "outputs": [],
   "source": [
    "def main():\n",
    "    # estimate the epicentral distance. This is one of your free parameters:\n",
    "    Delta = 35 # in degrees\n",
    "    # estimate the origin time of the earthquake; your other free parameter:\n",
    "    t0=UTCDateTime(\"2014-04-13T12:25:19\")\n",
    "\n",
    "    maxamp = readandplotseismogram(\"http://pal.blogs.auckland.ac.nz/files/2014/08/quake.sac_.gz\")\n",
    "    computeandplottts(Delta,t0,maxamp)\n",
    "\n",
    "    # tighten up the axes, and show:\n",
    "    plt.axis('tight')\n",
    "    plt.show()\n",
    "    #return"
   ]
  },
  {
   "cell_type": "code",
   "execution_count": 3,
   "metadata": {
    "collapsed": true,
    "deletable": true,
    "editable": true
   },
   "outputs": [],
   "source": [
    "def readandplotseismogram(seismogram):\n",
    "    '''read and plot the seismogram'''\n",
    "    # read the stream\n",
    "    st = read(seismogram)\n",
    "    starttime = UTCDateTime(\"2014-04-13T12:38:00\")\n",
    "    st.trim(starttime,starttime+1000)\n",
    "    # the trace in the stream is\n",
    "    tr = st[0]\n",
    "    # Make a time array and an amps array:\n",
    "    t1= tr.stats.starttime.timestamp\n",
    "    t2= tr.stats.endtime.timestamp\n",
    "    npts = tr.stats.npts\n",
    "    times = np.linspace(t1,t2,npts)\n",
    "    amps = tr.data\n",
    "    maxamp = max(amps)\n",
    "    #Plot the seismogram against a grid\n",
    "    plt.figure(figsize=(12,3))\n",
    "    plt.plot(times,amps,color='blue')\n",
    "    #Converting tick marks to actual times:\n",
    "    locs, labels = plt.xticks()\n",
    "    new_label=[]\n",
    "    for loc in locs:\n",
    "        new_label.append(UTCDateTime(loc).strftime(\"%H-%M-%S\"))\n",
    "        plt.xticks(locs,new_label,rotation=10)\n",
    "        plt.xlabel('Time (HH-MM-SS UTC)')\n",
    "        plt.ylabel('Displacement')\n",
    "        plt.grid()\n",
    "    return maxamp"
   ]
  },
  {
   "cell_type": "code",
   "execution_count": 4,
   "metadata": {
    "collapsed": true,
    "deletable": true,
    "editable": true
   },
   "outputs": [],
   "source": [
    "def computeandplottts(Delta,t0,maxamp):\n",
    "    # compute arrival times based on a epicentral distance (and depth, but\n",
    "    # I fixed depth to a constant value):\n",
    "    model = TauPyModel(model=\"iasp91\")      \n",
    "    arrivals = model.get_travel_times(distance_in_degree=Delta,source_depth_in_km=10)\n",
    "    #Construct vertical lines to show arrival times of predicted seismic waves\n",
    "    for arrival in arrivals:\n",
    "        dummy = t0+ arrival.time\n",
    "        if arrival.name == \"P\":\n",
    "            plt.vlines(dummy,-maxamp/2,maxamp/2)\n",
    "            plt.text(dummy,maxamp/2+0.05*maxamp,arrival.name)\n",
    "        if arrival.name == \"PP\":\n",
    "            plt.vlines(dummy,-maxamp/2,maxamp/2)\n",
    "            plt.text(dummy,maxamp/2+0.05*maxamp,arrival.name)\n",
    "        if arrival.name == \"S\":\n",
    "            plt.vlines(dummy,-maxamp/2,maxamp/2)\n",
    "            plt.text(dummy,maxamp/2+0.05*maxamp,arrival.name)\n",
    "        if arrival.name == \"SS\":\n",
    "            plt.vlines(dummy,-maxamp/2,maxamp/2)\n",
    "            plt.text(dummy,maxamp/2+0.05*maxamp,arrival.name)\n",
    "    return()"
   ]
  },
  {
   "cell_type": "code",
   "execution_count": 5,
   "metadata": {
    "collapsed": false,
    "deletable": true,
    "editable": true
   },
   "outputs": [
    {
     "data": {
      "image/png": "[encoded data removed]",
      "text/plain": [
       "<matplotlib.figure.Figure at 0x1a136704e0>"
      ]
     },
     "metadata": {},
     "output_type": "display_data"
    }
   ],
   "source": [
    "# this will actually run the code if called stand-alone:\n",
    "if __name__ == '__main__':\n",
    "    main()"
   ]
  },
  {
   "cell_type": "code",
   "execution_count": null,
   "metadata": {
    "collapsed": true,
    "deletable": true,
    "editable": true
   },
   "outputs": [],
   "source": []
  }
 ],
 "metadata": {
  "kernelspec": {
   "display_name": "Python 3",
   "language": "python",
   "name": "python3"
  },
  "language_info": {
   "codemirror_mode": {
    "name": "ipython",
    "version": 3
   },
   "file_extension": ".py",
   "mimetype": "text/x-python",
   "name": "python",
   "nbconvert_exporter": "python",
   "pygments_lexer": "ipython3",
   "version": "3.5.2"
  }
 },
 "nbformat": 4,
 "nbformat_minor": 2
}
