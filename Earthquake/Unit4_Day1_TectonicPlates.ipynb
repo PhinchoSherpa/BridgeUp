{
 "cells": [
  {
   "cell_type": "markdown",
   "metadata": {
    "deletable": true,
    "editable": true
   },
   "source": [
    "# Analyzing the speed of tectonic plates: practice with pandas and matplotlib\n",
    "\n",
    "In this notebook you will get to practice your pandas and matplotlib skills while creating a visualization of the speeds of tectonic plates over time.\n",
    "\n",
    "**This is a pair coding activity. Please take turns typing with your partner. Remember to help advise your partner while she is typing.**"
   ]
  },
  {
   "cell_type": "markdown",
   "metadata": {
    "deletable": true,
    "editable": true
   },
   "source": [
    "Partner 1: import pandas and matplotlib.pyplot"
   ]
  },
  {
   "cell_type": "code",
   "execution_count": 1,
   "metadata": {
    "collapsed": true,
    "deletable": true,
    "editable": true
   },
   "outputs": [],
   "source": [
    "import pandas as pd\n",
    "import matplotlib.pyplot as plt"
   ]
  },
  {
   "cell_type": "markdown",
   "metadata": {
    "deletable": true,
    "editable": true
   },
   "source": [
    "Partner 2: Create a dataframe from the tectonic_plate_speeds.csv file and assign it to a variable. Then run the .head() method to look at the data."
   ]
  },
  {
   "cell_type": "code",
   "execution_count": 2,
   "metadata": {
    "collapsed": false,
    "deletable": true,
    "editable": true
   },
   "outputs": [
    {
     "data": {
      "text/html": [
       "<div>\n",
       "<style>\n",
       "    .dataframe thead tr:only-child th {\n",
       "        text-align: right;\n",
       "    }\n",
       "\n",
       "    .dataframe thead th {\n",
       "        text-align: left;\n",
       "    }\n",
       "\n",
       "    .dataframe tbody tr th {\n",
       "        vertical-align: top;\n",
       "    }\n",
       "</style>\n",
       "<table border=\"1\" class=\"dataframe\">\n",
       "  <thead>\n",
       "    <tr style=\"text-align: right;\">\n",
       "      <th></th>\n",
       "      <th>Age (mya)</th>\n",
       "      <th>PlateID</th>\n",
       "      <th>Area</th>\n",
       "      <th>Perimeter</th>\n",
       "      <th>Continent_RMS_Vel (cm/yr)</th>\n",
       "      <th>Continent_Min_Vel</th>\n",
       "      <th>Continent_Max_Vel</th>\n",
       "    </tr>\n",
       "  </thead>\n",
       "  <tbody>\n",
       "    <tr>\n",
       "      <th>0</th>\n",
       "      <td>0</td>\n",
       "      <td>101</td>\n",
       "      <td>57211465</td>\n",
       "      <td>36282.684690</td>\n",
       "      <td>1.96306</td>\n",
       "      <td>0.414891</td>\n",
       "      <td>5.665749</td>\n",
       "    </tr>\n",
       "    <tr>\n",
       "      <th>1</th>\n",
       "      <td>0</td>\n",
       "      <td>201</td>\n",
       "      <td>43110022</td>\n",
       "      <td>35578.123690</td>\n",
       "      <td>2.15141</td>\n",
       "      <td>0.956371</td>\n",
       "      <td>6.908577</td>\n",
       "    </tr>\n",
       "    <tr>\n",
       "      <th>2</th>\n",
       "      <td>0</td>\n",
       "      <td>224</td>\n",
       "      <td>3583364</td>\n",
       "      <td>9345.272629</td>\n",
       "      <td>1.94767</td>\n",
       "      <td>0.059206</td>\n",
       "      <td>5.698173</td>\n",
       "    </tr>\n",
       "    <tr>\n",
       "      <th>3</th>\n",
       "      <td>0</td>\n",
       "      <td>277</td>\n",
       "      <td>1796098</td>\n",
       "      <td>7075.722173</td>\n",
       "      <td>1.84493</td>\n",
       "      <td>1.117579</td>\n",
       "      <td>1.990653</td>\n",
       "    </tr>\n",
       "    <tr>\n",
       "      <th>4</th>\n",
       "      <td>0</td>\n",
       "      <td>281</td>\n",
       "      <td>220423</td>\n",
       "      <td>1928.409184</td>\n",
       "      <td>NaN</td>\n",
       "      <td>NaN</td>\n",
       "      <td>NaN</td>\n",
       "    </tr>\n",
       "  </tbody>\n",
       "</table>\n",
       "</div>"
      ],
      "text/plain": [
       "   Age (mya)  PlateID      Area     Perimeter  Continent_RMS_Vel (cm/yr)  \\\n",
       "0          0      101  57211465  36282.684690                    1.96306   \n",
       "1          0      201  43110022  35578.123690                    2.15141   \n",
       "2          0      224   3583364   9345.272629                    1.94767   \n",
       "3          0      277   1796098   7075.722173                    1.84493   \n",
       "4          0      281    220423   1928.409184                        NaN   \n",
       "\n",
       "   Continent_Min_Vel  Continent_Max_Vel  \n",
       "0           0.414891           5.665749  \n",
       "1           0.956371           6.908577  \n",
       "2           0.059206           5.698173  \n",
       "3           1.117579           1.990653  \n",
       "4                NaN                NaN  "
      ]
     },
     "execution_count": 2,
     "metadata": {},
     "output_type": "execute_result"
    }
   ],
   "source": [
    "df=pd.read_csv(\"tectonic_plate_speeds.csv\")\n",
    "df.head()"
   ]
  },
  {
   "cell_type": "markdown",
   "metadata": {
    "deletable": true,
    "editable": true
   },
   "source": [
    "Partner 1: Assign the \"Age (mya)\" column to a variable"
   ]
  },
  {
   "cell_type": "code",
   "execution_count": 12,
   "metadata": {
    "collapsed": false,
    "deletable": true,
    "editable": true
   },
   "outputs": [],
   "source": [
    "years = df[\"Age (mya)\"]"
   ]
  },
  {
   "cell_type": "markdown",
   "metadata": {
    "deletable": true,
    "editable": true
   },
   "source": [
    "Partner 2: Assign the \"Continent_RMS_Vel (cm/yr)\" column to a variable"
   ]
  },
  {
   "cell_type": "code",
   "execution_count": 10,
   "metadata": {
    "collapsed": true,
    "deletable": true,
    "editable": true
   },
   "outputs": [],
   "source": [
    "velocity=df[\"Continent_RMS_Vel (cm/yr)\"]"
   ]
  },
  {
   "cell_type": "markdown",
   "metadata": {
    "deletable": true,
    "editable": true
   },
   "source": [
    "We will be analyzing the following tectonic plates:\n",
    "- 101: North American Plate\n",
    "- 301: Eurasian Plate\n",
    "- 701: African Plate\n",
    "- 901: Pacific Plate\n",
    "- 501: Indian Ocean Plate\n",
    "- 911: Nazca Plate\n",
    "\n",
    "Partner 1: Use the .loc index method to assign the ages from each of those plates to 6 variables:"
   ]
  },
  {
   "cell_type": "code",
   "execution_count": 17,
   "metadata": {
    "collapsed": false,
    "deletable": true,
    "editable": true
   },
   "outputs": [],
   "source": [
    "# Hint: You can copy and paste your code and then modify it\n",
    "NAP=years.loc[df[\"PlateID\"] == 101]\n",
    "EP=years.loc[df[\"PlateID\"] == 301]\n",
    "AP=years.loc[df[\"PlateID\"] == 701]\n",
    "PP=years.loc[df[\"PlateID\"] == 901]\n",
    "IOP=years.loc[df[\"PlateID\"] == 501]\n",
    "NP=years.loc[df[\"PlateID\"] == 911]"
   ]
  },
  {
   "cell_type": "markdown",
   "metadata": {
    "deletable": true,
    "editable": true
   },
   "source": [
    "Partner 2: Use the .loc index method to assign the RMS velocities from each of those plates to 6 variables:"
   ]
  },
  {
   "cell_type": "code",
   "execution_count": 16,
   "metadata": {
    "collapsed": true,
    "deletable": true,
    "editable": true
   },
   "outputs": [],
   "source": [
    "NAP_v=velocity.loc[df[\"PlateID\"] == 101]\n",
    "EP_v=velocity.loc[df[\"PlateID\"] == 301]\n",
    "AP_v=velocity.loc[df[\"PlateID\"] == 701]\n",
    "PP_v=velocity.loc[df[\"PlateID\"] == 901]\n",
    "IOP_v=velocity.loc[df[\"PlateID\"] == 501]\n",
    "NP_v=velocity.loc[df[\"PlateID\"] == 911]"
   ]
  },
  {
   "cell_type": "markdown",
   "metadata": {
    "deletable": true,
    "editable": true
   },
   "source": [
    "Partner 1: Create a line graph that shows how the velocities of all six plates change over time (don't worry about labels, title, or color for now):"
   ]
  },
  {
   "cell_type": "code",
   "execution_count": 33,
   "metadata": {
    "collapsed": false,
    "deletable": true,
    "editable": true
   },
   "outputs": [
    {
     "data": {
      "image/png": "[encoded data removed]",
      "text/plain": [
       "<matplotlib.figure.Figure at 0x11e001550>"
      ]
     },
     "metadata": {},
     "output_type": "display_data"
    }
   ],
   "source": [
    "# Hint: Use the plt.plot() function. Remember that x data comes first and then y data.\n",
    "plt.plot(NAP,NAP_v,color=\"blue\")\n",
    "plt.plot(EP,EP_v,color=\"red\")\n",
    "plt.plot(AP,AP_v,color=\"pink\")\n",
    "plt.plot(PP,PP_v,color=\"black\")\n",
    "plt.plot(IOP,IOP_v,color=\"green\")\n",
    "plt.plot(NP,NP_v,color=\"magenta\")\n",
    "plt.legend(labels=[\"NAP\",\"EP\",\"AP\",\"PP\",\"IOP\",\"NP\"])\n",
    "plt.xlabel(\"Age(mya)\")\n",
    "plt.ylabel(\"Velocity\")\n",
    "\n",
    "plt.title(\"Velocity of tectonic plates\")\n",
    "plt.show()\n"
   ]
  },
  {
   "cell_type": "code",
   "execution_count": 42,
   "metadata": {
    "collapsed": false
   },
   "outputs": [
    {
     "name": "stdout",
     "output_type": "stream",
     "text": [
      "7\n",
      "28058\n"
     ]
    }
   ],
   "source": [
    "def addFunction(num1,num2):\n",
    "    print(num1+num2)\n",
    "addFunction(5,2)\n",
    "addFunction(23492,4566)\n"
   ]
  },
  {
   "cell_type": "code",
   "execution_count": 45,
   "metadata": {
    "collapsed": false
   },
   "outputs": [
    {
     "data": {
      "image/png": "[encoded data removed]",
      "text/plain": [
       "<matplotlib.figure.Figure at 0x11e4f3358>"
      ]
     },
     "metadata": {},
     "output_type": "display_data"
    }
   ],
   "source": [
    "#create a function that takes plateID as its only argument\n",
    "#And plot the velocity vs age of that plate in a line graph\n",
    "def plotSpeed(plateID):\n",
    "    NAP=years.loc[df[\"PlateID\"] == plateID]  \n",
    "    NAP_v=velocity.loc[df[\"PlateID\"] == plateID]\n",
    "    plt.plot(NAP,NAP_v)\n",
    "plotSpeed(201) #South American\n",
    "plotSpeed(608) #Phillippine\n",
    "plotSpeed(801) #Australia\n",
    "plt.show()"
   ]
  },
  {
   "cell_type": "markdown",
   "metadata": {
    "deletable": true,
    "editable": true
   },
   "source": [
    "Partner 2: Add a title and labels to the graphing code above"
   ]
  },
  {
   "cell_type": "markdown",
   "metadata": {
    "deletable": true,
    "editable": true
   },
   "source": [
    "### Coding Challenge 1\n",
    "Find out which plate ID has the fastest RMS velocity and which has the slowest. Also find out what age this maximum speeds occured."
   ]
  },
  {
   "cell_type": "code",
   "execution_count": 39,
   "metadata": {
    "collapsed": false,
    "deletable": true,
    "editable": true
   },
   "outputs": [
    {
     "name": "stdout",
     "output_type": "stream",
     "text": [
      "23.89\n",
      "0.04257593\n",
      "1784    926\n",
      "Name: PlateID, dtype: int64\n",
      "3954    449\n",
      "Name: PlateID, dtype: int64\n",
      "Series([], Name: PlateID, dtype: int64)\n",
      "Series([], Name: PlateID, dtype: int64)\n"
     ]
    }
   ],
   "source": [
    "print(velocity.max())\n",
    "print(velocity.min())\n",
    "print(df[\"PlateID\"].loc[velocity==23.89])\n",
    "\n",
    "print(df[\"PlateID\"].loc[velocity==0.04257593])\n",
    "print(df[\"PlateID\"].loc[years==23.89])\n",
    "print(df[\"PlateID\"].loc[years==0.04257593])"
   ]
  },
  {
   "cell_type": "markdown",
   "metadata": {
    "deletable": true,
    "editable": true
   },
   "source": [
    "### Coding Challenge 2\n",
    "Do you think the area or perimeter of tectonic plates changes over time? Create a line graph for any one of the six plates we've analyzed that shows how its perimeter or area changes over time to find out."
   ]
  },
  {
   "cell_type": "code",
   "execution_count": null,
   "metadata": {
    "collapsed": false,
    "deletable": true,
    "editable": true
   },
   "outputs": [],
   "source": []
  }
 ],
 "metadata": {
  "kernelspec": {
   "display_name": "Python 3",
   "language": "python",
   "name": "python3"
  },
  "language_info": {
   "codemirror_mode": {
    "name": "ipython",
    "version": 3
   },
   "file_extension": ".py",
   "mimetype": "text/x-python",
   "name": "python",
   "nbconvert_exporter": "python",
   "pygments_lexer": "ipython3",
   "version": "3.5.2"
  }
 },
 "nbformat": 4,
 "nbformat_minor": 2
}
