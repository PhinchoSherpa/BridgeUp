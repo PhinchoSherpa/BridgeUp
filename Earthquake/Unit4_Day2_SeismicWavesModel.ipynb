{
 "cells": [
  {
   "cell_type": "markdown",
   "metadata": {
    "deletable": true,
    "editable": true
   },
   "source": [
    "# Seismic Wave Functions: Theoretical vs Observed\n",
    "\n",
    "In this notebook you'll create another function to compare theoretical data with observed seismic recordings."
   ]
  },
  {
   "cell_type": "markdown",
   "metadata": {
    "deletable": true,
    "editable": true
   },
   "source": [
    "As usual, you'll need pandas and matplotlib"
   ]
  },
  {
   "cell_type": "code",
   "execution_count": null,
   "metadata": {
    "collapsed": true,
    "deletable": true,
    "editable": true
   },
   "outputs": [],
   "source": [
    "import pandas as pd\n",
    "import matplotlib.pyplot as plt"
   ]
  },
  {
   "cell_type": "markdown",
   "metadata": {
    "deletable": true,
    "editable": true
   },
   "source": [
    "This time, you need to create two dataframes to hold the two datasets:"
   ]
  },
  {
   "cell_type": "code",
   "execution_count": null,
   "metadata": {
    "collapsed": true,
    "deletable": true,
    "editable": true
   },
   "outputs": [],
   "source": [
    "df=pd.read_csv(\"Seismologist_data.csv\")\n",
    "df2=pd.read_csv(\"Theoretician_data.csv\")"
   ]
  },
  {
   "cell_type": "code",
   "execution_count": null,
   "metadata": {
    "collapsed": true,
    "deletable": true,
    "editable": true
   },
   "outputs": [],
   "source": [
    "distE=df[\"Distance (deg from epicenter)\"]\n",
    "ObserveA=df[\"Observed Arrival Time (min)\"]\n",
    "distE2=df2[\"Distance (deg from epicenter)\"]\n",
    "predict=df2[\"Predicted Arrival Time (min)\"]"
   ]
  },
  {
   "cell_type": "markdown",
   "metadata": {
    "deletable": true,
    "editable": true
   },
   "source": [
    "\n",
    "### Create a Function\n",
    "Create a function that creates a scatter plot for observed arrival time vs distance and then run it for both dataframes. \n",
    "\n",
    "Hint: This function will take three arguments (but the code is very simple!)"
   ]
  },
  {
   "cell_type": "code",
   "execution_count": null,
   "metadata": {
    "collapsed": false,
    "deletable": true,
    "editable": true
   },
   "outputs": [],
   "source": [
    "def function(df,x,y): #3 aruguments\n",
    "    plt.scatter(x,y)\n",
    "    \n",
    "function(df,distE,ObserveA)\n",
    "function(df2,distE2,predict)\n",
    "plt.title(\"Theoretical vs Observed\")\n",
    "plt.xlabel(\"distance(deg from epicenter)\")\n",
    "plt.ylabel(\"Observed time (min)\")\n",
    "plt.legend(labels = [\"Observed\", \"Predicted\"])\n",
    "plt.show()\n",
    "\n",
    "\n"
   ]
  },
  {
   "cell_type": "markdown",
   "metadata": {
    "deletable": true,
    "editable": true
   },
   "source": [
    "## Coding Challenge\n",
    "Can you include the data frame creation inside your function? Try and see!"
   ]
  },
  {
   "cell_type": "code",
   "execution_count": null,
   "metadata": {
    "collapsed": true,
    "deletable": true,
    "editable": true
   },
   "outputs": [],
   "source": []
  }
 ],
 "metadata": {
  "kernelspec": {
   "display_name": "Python 3",
   "language": "python",
   "name": "python3"
  },
  "language_info": {
   "codemirror_mode": {
    "name": "ipython",
    "version": 3
   },
   "file_extension": ".py",
   "mimetype": "text/x-python",
   "name": "python",
   "nbconvert_exporter": "python",
   "pygments_lexer": "ipython3",
   "version": "3.5.2"
  }
 },
 "nbformat": 4,
 "nbformat_minor": 2
}
