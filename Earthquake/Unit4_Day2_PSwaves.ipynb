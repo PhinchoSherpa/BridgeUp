{
 "cells": [
  {
   "cell_type": "markdown",
   "metadata": {
    "deletable": true,
    "editable": true
   },
   "source": [
    "# Seismic Wave Functions: P vs S waves\n",
    "\n",
    "In this notebook you'll create your own function to plot seismic wave data as a scatter plot."
   ]
  },
  {
   "cell_type": "markdown",
   "metadata": {
    "deletable": true,
    "editable": true
   },
   "source": [
    "As usual, you'll need pandas and matplotlib"
   ]
  },
  {
   "cell_type": "code",
   "execution_count": 37,
   "metadata": {
    "collapsed": false,
    "deletable": true,
    "editable": true
   },
   "outputs": [],
   "source": [
    "import pandas as pd\n",
    "import matplotlib.pyplot as plt"
   ]
  },
  {
   "cell_type": "markdown",
   "metadata": {
    "deletable": true,
    "editable": true
   },
   "source": [
    "Next, create a dataframe and look at the head of the dataset:"
   ]
  },
  {
   "cell_type": "code",
   "execution_count": 38,
   "metadata": {
    "collapsed": false,
    "deletable": true,
    "editable": true
   },
   "outputs": [
    {
     "data": {
      "text/html": [
       "<div>\n",
       "<style>\n",
       "    .dataframe thead tr:only-child th {\n",
       "        text-align: right;\n",
       "    }\n",
       "\n",
       "    .dataframe thead th {\n",
       "        text-align: left;\n",
       "    }\n",
       "\n",
       "    .dataframe tbody tr th {\n",
       "        vertical-align: top;\n",
       "    }\n",
       "</style>\n",
       "<table border=\"1\" class=\"dataframe\">\n",
       "  <thead>\n",
       "    <tr style=\"text-align: right;\">\n",
       "      <th></th>\n",
       "      <th>Channel</th>\n",
       "      <th>Distance (km)</th>\n",
       "      <th>Phase</th>\n",
       "      <th>Arrival Time</th>\n",
       "      <th>Time after quake (s)</th>\n",
       "    </tr>\n",
       "  </thead>\n",
       "  <tbody>\n",
       "    <tr>\n",
       "      <th>0</th>\n",
       "      <td>ZY.LA00.ELE.</td>\n",
       "      <td>0.1267</td>\n",
       "      <td>S</td>\n",
       "      <td>30:59.1</td>\n",
       "      <td>4</td>\n",
       "    </tr>\n",
       "    <tr>\n",
       "      <th>1</th>\n",
       "      <td>ZY.LA02.EHZ.</td>\n",
       "      <td>0.1792</td>\n",
       "      <td>P</td>\n",
       "      <td>30:57.7</td>\n",
       "      <td>2</td>\n",
       "    </tr>\n",
       "    <tr>\n",
       "      <th>2</th>\n",
       "      <td>ZY.LA02.EHN.</td>\n",
       "      <td>0.1792</td>\n",
       "      <td>S</td>\n",
       "      <td>30:59.8</td>\n",
       "      <td>4</td>\n",
       "    </tr>\n",
       "    <tr>\n",
       "      <th>3</th>\n",
       "      <td>ZY.LA02.EHZ.</td>\n",
       "      <td>0.1792</td>\n",
       "      <td>P</td>\n",
       "      <td>30:57.7</td>\n",
       "      <td>2</td>\n",
       "    </tr>\n",
       "    <tr>\n",
       "      <th>4</th>\n",
       "      <td>ZY.LA02.EHN.</td>\n",
       "      <td>0.1792</td>\n",
       "      <td>S</td>\n",
       "      <td>30:59.8</td>\n",
       "      <td>4</td>\n",
       "    </tr>\n",
       "  </tbody>\n",
       "</table>\n",
       "</div>"
      ],
      "text/plain": [
       "        Channel  Distance (km) Phase Arrival Time  Time after quake (s)\n",
       "0  ZY.LA00.ELE.         0.1267     S      30:59.1                     4\n",
       "1  ZY.LA02.EHZ.         0.1792     P      30:57.7                     2\n",
       "2  ZY.LA02.EHN.         0.1792     S      30:59.8                     4\n",
       "3  ZY.LA02.EHZ.         0.1792     P      30:57.7                     2\n",
       "4  ZY.LA02.EHN.         0.1792     S      30:59.8                     4"
      ]
     },
     "execution_count": 38,
     "metadata": {},
     "output_type": "execute_result"
    }
   ],
   "source": [
    "df=pd.read_csv(\"seismic_wave_dataset.csv\")\n",
    "df.head()"
   ]
  },
  {
   "cell_type": "markdown",
   "metadata": {
    "deletable": true,
    "editable": true
   },
   "source": [
    "** Note on the data:** This dataset includes the different P and S wave records at different seismometer stations after a 6.70 magnitude earthquake in California in 1994.\n",
    "The earthquake occured at 12:30:55.390 on January 17th, 1994"
   ]
  },
  {
   "cell_type": "markdown",
   "metadata": {
    "deletable": true,
    "editable": true
   },
   "source": [
    "### Create a Function\n",
    "Your goal is to create a function that creates a scatter plot of the \"Distance (km)\" vs \"Time after quake (s)\" for a given wave type. \n",
    "\n",
    "Note: Distance should be on the x axis.\n",
    "\n",
    "When you're done, run your function for S waves and for P waves and show the resulting plot."
   ]
  },
  {
   "cell_type": "code",
   "execution_count": 39,
   "metadata": {
    "collapsed": false,
    "deletable": true,
    "editable": true
   },
   "outputs": [
    {
     "data": {
      "image/png": "[encoded data removed]",
      "text/plain": [
       "<matplotlib.figure.Figure at 0x11d9232e8>"
      ]
     },
     "metadata": {},
     "output_type": "display_data"
    }
   ],
   "source": [
    "distance=df[\"Distance (km)\"]\n",
    "time=df[\"Time after quake (s)\"]\n",
    "\n",
    "plt.scatter(distance,time,color=\"blue\")\n",
    "plt.xlabel(\"Distance(km)\")\n",
    "plt.ylabel(\"Time(s)\")\n",
    "plt.show()"
   ]
  },
  {
   "cell_type": "code",
   "execution_count": 42,
   "metadata": {
    "collapsed": false
   },
   "outputs": [],
   "source": [
    "def earthquake(wave): #wave is a variable and earthquake is a function\n",
    "    pDis=distance.loc[df[\"Phase\"] == wave] #values in distance with value wave in column Phase\n",
    "    pTime=time.loc[df[\"Phase\"] == wave]\n",
    "    plt.scatter(pDis,pTime)"
   ]
  },
  {
   "cell_type": "code",
   "execution_count": 43,
   "metadata": {
    "collapsed": false
   },
   "outputs": [
    {
     "data": {
      "image/png": "[encoded data removed]",
      "text/plain": [
       "<matplotlib.figure.Figure at 0x11dfa3c50>"
      ]
     },
     "metadata": {},
     "output_type": "display_data"
    }
   ],
   "source": [
    "earthquake(\"P\") #instead of wave I put P so it is searching for P wave \n",
    "earthquake(\"S\")#instead of wave I put S so it is searching for S wave \n",
    "plt.title(\"Earthquake P and S wave\")\n",
    "plt.xlabel(\"Distance(km)\")\n",
    "plt.ylabel(\"Time(s)\")\n",
    "plt.legend(labels=[\"P wave\",\"S wave\"])\n",
    "plt.show()"
   ]
  },
  {
   "cell_type": "markdown",
   "metadata": {
    "deletable": true,
    "editable": true
   },
   "source": [
    "## Coding Challenge\n",
    "1. Calculate the speed of the seismic waves using the speed = distance/time formula and add this as a new column to the dataframe.\n",
    "2. Find the average speed of the P waves and the S waves"
   ]
  },
  {
   "cell_type": "code",
   "execution_count": 50,
   "metadata": {
    "collapsed": false,
    "deletable": true,
    "editable": true
   },
   "outputs": [
    {
     "data": {
      "text/html": [
       "<div>\n",
       "<style>\n",
       "    .dataframe thead tr:only-child th {\n",
       "        text-align: right;\n",
       "    }\n",
       "\n",
       "    .dataframe thead th {\n",
       "        text-align: left;\n",
       "    }\n",
       "\n",
       "    .dataframe tbody tr th {\n",
       "        vertical-align: top;\n",
       "    }\n",
       "</style>\n",
       "<table border=\"1\" class=\"dataframe\">\n",
       "  <thead>\n",
       "    <tr style=\"text-align: right;\">\n",
       "      <th></th>\n",
       "      <th>Channel</th>\n",
       "      <th>Distance (km)</th>\n",
       "      <th>Phase</th>\n",
       "      <th>Arrival Time</th>\n",
       "      <th>Time after quake (s)</th>\n",
       "      <th>Speed</th>\n",
       "    </tr>\n",
       "  </thead>\n",
       "  <tbody>\n",
       "    <tr>\n",
       "      <th>0</th>\n",
       "      <td>ZY.LA00.ELE.</td>\n",
       "      <td>0.1267</td>\n",
       "      <td>S</td>\n",
       "      <td>30:59.1</td>\n",
       "      <td>4</td>\n",
       "      <td>0.031675</td>\n",
       "    </tr>\n",
       "    <tr>\n",
       "      <th>1</th>\n",
       "      <td>ZY.LA02.EHZ.</td>\n",
       "      <td>0.1792</td>\n",
       "      <td>P</td>\n",
       "      <td>30:57.7</td>\n",
       "      <td>2</td>\n",
       "      <td>0.089600</td>\n",
       "    </tr>\n",
       "    <tr>\n",
       "      <th>2</th>\n",
       "      <td>ZY.LA02.EHN.</td>\n",
       "      <td>0.1792</td>\n",
       "      <td>S</td>\n",
       "      <td>30:59.8</td>\n",
       "      <td>4</td>\n",
       "      <td>0.044800</td>\n",
       "    </tr>\n",
       "    <tr>\n",
       "      <th>3</th>\n",
       "      <td>ZY.LA02.EHZ.</td>\n",
       "      <td>0.1792</td>\n",
       "      <td>P</td>\n",
       "      <td>30:57.7</td>\n",
       "      <td>2</td>\n",
       "      <td>0.089600</td>\n",
       "    </tr>\n",
       "    <tr>\n",
       "      <th>4</th>\n",
       "      <td>ZY.LA02.EHN.</td>\n",
       "      <td>0.1792</td>\n",
       "      <td>S</td>\n",
       "      <td>30:59.8</td>\n",
       "      <td>4</td>\n",
       "      <td>0.044800</td>\n",
       "    </tr>\n",
       "  </tbody>\n",
       "</table>\n",
       "</div>"
      ],
      "text/plain": [
       "        Channel  Distance (km) Phase Arrival Time  Time after quake (s)  \\\n",
       "0  ZY.LA00.ELE.         0.1267     S      30:59.1                     4   \n",
       "1  ZY.LA02.EHZ.         0.1792     P      30:57.7                     2   \n",
       "2  ZY.LA02.EHN.         0.1792     S      30:59.8                     4   \n",
       "3  ZY.LA02.EHZ.         0.1792     P      30:57.7                     2   \n",
       "4  ZY.LA02.EHN.         0.1792     S      30:59.8                     4   \n",
       "\n",
       "      Speed  \n",
       "0  0.031675  \n",
       "1  0.089600  \n",
       "2  0.044800  \n",
       "3  0.089600  \n",
       "4  0.044800  "
      ]
     },
     "execution_count": 50,
     "metadata": {},
     "output_type": "execute_result"
    }
   ],
   "source": [
    "speed=distance/time\n",
    "\n",
    "df['Speed'] = speed #Creating a new column\n",
    "df.head()"
   ]
  },
  {
   "cell_type": "code",
   "execution_count": 58,
   "metadata": {
    "collapsed": false
   },
   "outputs": [
    {
     "name": "stdout",
     "output_type": "stream",
     "text": [
      "0.0331418359321\n",
      "0.0582496761378\n"
     ]
    }
   ],
   "source": [
    "#Find the average speed of the P waves and the S waves\n",
    "print(df[\"Speed\"].loc[df[\"Phase\"]==\"S\"].mean())\n",
    "print(df[\"Speed\"].loc[df[\"Phase\"]==\"P\"].mean())"
   ]
  },
  {
   "cell_type": "code",
   "execution_count": null,
   "metadata": {
    "collapsed": true
   },
   "outputs": [],
   "source": []
  }
 ],
 "metadata": {
  "kernelspec": {
   "display_name": "Python 3",
   "language": "python",
   "name": "python3"
  },
  "language_info": {
   "codemirror_mode": {
    "name": "ipython",
    "version": 3
   },
   "file_extension": ".py",
   "mimetype": "text/x-python",
   "name": "python",
   "nbconvert_exporter": "python",
   "pygments_lexer": "ipython3",
   "version": "3.5.2"
  }
 },
 "nbformat": 4,
 "nbformat_minor": 2
}
