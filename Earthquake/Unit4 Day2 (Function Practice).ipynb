{
 "cells": [
  {
   "cell_type": "code",
   "execution_count": 4,
   "metadata": {
    "collapsed": false
   },
   "outputs": [],
   "source": [
    "def multiplyFour(num1,num2,num3,num4):#num1-4 are the argument\n",
    "    return num1*num2*num3*num4\n",
    "multResult=multiplyFour(1,8,1000,7)\n",
    "    "
   ]
  },
  {
   "cell_type": "code",
   "execution_count": 5,
   "metadata": {
    "collapsed": false
   },
   "outputs": [
    {
     "name": "stdout",
     "output_type": "stream",
     "text": [
      "56003\n"
     ]
    }
   ],
   "source": [
    "def addNums(num1,num2):\n",
    "    return num1+num2\n",
    "print(addNums(multResult,3))"
   ]
  },
  {
   "cell_type": "code",
   "execution_count": 8,
   "metadata": {
    "collapsed": false
   },
   "outputs": [
    {
     "data": {
      "text/plain": [
       "4.25"
      ]
     },
     "execution_count": 8,
     "metadata": {},
     "output_type": "execute_result"
    }
   ],
   "source": [
    "def divide(num1,num2,num3):\n",
    "    return num1/num2+num3\n",
    "divide(5,4,3)"
   ]
  },
  {
   "cell_type": "code",
   "execution_count": 11,
   "metadata": {
    "collapsed": false
   },
   "outputs": [
    {
     "name": "stdout",
     "output_type": "stream",
     "text": [
      "The following animals: ['lion', 'tiger', 'lizard'] eat: ['lotus', 'lily', 'sunflower']\n",
      "The following animals: ['lotus', 'lily', 'sunflower'] eat: ['fox', 'bear', 'eagle']\n"
     ]
    }
   ],
   "source": [
    "my_list=[\"lion\",\"tiger\",\"lizard\"]\n",
    "my_list2=[\"lotus\",\"lily\",\"sunflower\"]\n",
    "my_list3=[\"fox\",\"bear\",\"eagle\"]\n",
    "def foodchain(list1,list2):\n",
    "    print(\"The following animals:\",list1,\"eat:\",list2)#use the variable name not the list's variable\n",
    "foodchain(my_list,my_list2)\n",
    "foodchain(my_list2,my_list3)  #never have to define it again       "
   ]
  },
  {
   "cell_type": "code",
   "execution_count": null,
   "metadata": {
    "collapsed": true
   },
   "outputs": [],
   "source": []
  }
 ],
 "metadata": {
  "kernelspec": {
   "display_name": "Python 3",
   "language": "python",
   "name": "python3"
  },
  "language_info": {
   "codemirror_mode": {
    "name": "ipython",
    "version": 3
   },
   "file_extension": ".py",
   "mimetype": "text/x-python",
   "name": "python",
   "nbconvert_exporter": "python",
   "pygments_lexer": "ipython3",
   "version": "3.5.2"
  }
 },
 "nbformat": 4,
 "nbformat_minor": 2
}
