{
 "cells": [
  {
   "cell_type": "markdown",
   "metadata": {
    "deletable": true,
    "editable": true
   },
   "source": [
    "# Running a T test for our M&M data\n",
    "\n",
    "Let's find out if our results are significantly different from the printed weight!"
   ]
  },
  {
   "cell_type": "code",
   "execution_count": 1,
   "metadata": {
    "collapsed": true,
    "deletable": true,
    "editable": true
   },
   "outputs": [],
   "source": [
    "# import numpy\n",
    "import numpy as np"
   ]
  },
  {
   "cell_type": "markdown",
   "metadata": {
    "deletable": true,
    "editable": true
   },
   "source": [
    "Copy the weights list here:"
   ]
  },
  {
   "cell_type": "code",
   "execution_count": 2,
   "metadata": {
    "collapsed": true,
    "deletable": true,
    "editable": true
   },
   "outputs": [],
   "source": [
    "weights=[1.76, 1.76, 1.73, 1.76, 1.76, 1.76, 1.69, 1.76, 1.69, 1.76, 1.73, 1.69, 1.73, 1.69, 1.76, 1.76, 1.76, 1.76, 1.73, 1.80]"
   ]
  },
  {
   "cell_type": "markdown",
   "metadata": {
    "deletable": true,
    "editable": true
   },
   "source": [
    "Now let's calculate the t-value for our experiment. You can use the numpy functions np.mean(), np.var(), np.std(), and np.sqrt() (to find a square root). <br>\n",
    "Here is the equation for the t-value: <br>\n",
    "x = the mean of the sample (your dataset) <br>\n",
    "μ = the mean of the population (1.69 ounces) <br>\n",
    "s = the standard deviation of the dataset <br>\n",
    "n = the number of data points <br>\n",
    "<img src=\"http://www.statisticshowto.com/wp-content/uploads/2015/09/t-score.jpg\" width=\"15%\" align=left>\n"
   ]
  },
  {
   "cell_type": "code",
   "execution_count": 10,
   "metadata": {
    "collapsed": false,
    "deletable": true,
    "editable": true
   },
   "outputs": [
    {
     "name": "stdout",
     "output_type": "stream",
     "text": [
      "7.68370361935\n",
      "56.768558952\n"
     ]
    }
   ],
   "source": [
    "t=(np.mean(weights)-1.69)/(np.std(weights)/np.sqrt(len(weights)))\n",
    "print(t)\n"
   ]
  },
  {
   "cell_type": "markdown",
   "metadata": {
    "deletable": true,
    "editable": true
   },
   "source": [
    "We will use the 0.05 probability, but we need to calculate our degrees of freedom. This is n - 1. Print out the degrees of freedom below:"
   ]
  },
  {
   "cell_type": "code",
   "execution_count": 8,
   "metadata": {
    "collapsed": false,
    "deletable": true,
    "editable": true
   },
   "outputs": [
    {
     "name": "stdout",
     "output_type": "stream",
     "text": [
      "19\n"
     ]
    }
   ],
   "source": [
    "doF=len(weights)-1\n",
    "print(doF)"
   ]
  },
  {
   "cell_type": "markdown",
   "metadata": {
    "deletable": true,
    "editable": true
   },
   "source": [
    "Let's look up our t statistic and degrees of freedom in the table to find out our p-value "
   ]
  },
  {
   "cell_type": "markdown",
   "metadata": {
    "deletable": true,
    "editable": true
   },
   "source": [
    "We can also find the p-value for our test using a Python package called scipy. \n",
    "Run the code below and compare your results!"
   ]
  },
  {
   "cell_type": "code",
   "execution_count": 9,
   "metadata": {
    "collapsed": false,
    "deletable": true,
    "editable": true
   },
   "outputs": [
    {
     "name": "stdout",
     "output_type": "stream",
     "text": [
      "Ttest_1sampResult(statistic=7.4891478984288335, pvalue=4.4026084410334516e-07)\n"
     ]
    }
   ],
   "source": [
    "from scipy import stats\n",
    "\n",
    "print(stats.ttest_1samp(weights, 1.69))"
   ]
  },
  {
   "cell_type": "code",
   "execution_count": null,
   "metadata": {
    "collapsed": true
   },
   "outputs": [],
   "source": []
  }
 ],
 "metadata": {
  "kernelspec": {
   "display_name": "Python 3",
   "language": "python",
   "name": "python3"
  },
  "language_info": {
   "codemirror_mode": {
    "name": "ipython",
    "version": 3
   },
   "file_extension": ".py",
   "mimetype": "text/x-python",
   "name": "python",
   "nbconvert_exporter": "python",
   "pygments_lexer": "ipython3",
   "version": "3.5.2"
  }
 },
 "nbformat": 4,
 "nbformat_minor": 2
}
