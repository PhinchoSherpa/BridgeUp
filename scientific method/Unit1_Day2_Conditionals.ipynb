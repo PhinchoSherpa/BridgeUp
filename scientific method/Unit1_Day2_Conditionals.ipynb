{
 "cells": [
  {
   "cell_type": "markdown",
   "metadata": {
    "deletable": true,
    "editable": true
   },
   "source": [
    "# Conditionals: if, elif, else\n",
    "\n",
    "How can we tell Python to do something only if a particular condition is met? We'll need to use \"if statements\". Complete the following Notebook with your partner to learn more. \n",
    "\n",
    "If it's your cell, you should type and your partner should advise you. Then your partner can type the code in her own Notebook.\n",
    "\n",
    "**Reminder: To run the code in a Jupyter Notebook cell, click inside the cell and press \"shift\" and \"return\" on your keyboard at the same time.**"
   ]
  },
  {
   "cell_type": "markdown",
   "metadata": {
    "deletable": true,
    "editable": true
   },
   "source": [
    "### Follow along with the live code in this cell:"
   ]
  },
  {
   "cell_type": "code",
   "execution_count": null,
   "metadata": {
    "collapsed": true,
    "deletable": true,
    "editable": true
   },
   "outputs": [],
   "source": []
  },
  {
   "cell_type": "markdown",
   "metadata": {
    "deletable": true,
    "editable": true
   },
   "source": [
    "### M&M Conditionals"
   ]
  },
  {
   "cell_type": "markdown",
   "metadata": {
    "deletable": true,
    "editable": true
   },
   "source": [
    "Partner 1: Create a variable for each M&M color and set them equal to the number of M&Ms of that color in your bag:"
   ]
  },
  {
   "cell_type": "code",
   "execution_count": 32,
   "metadata": {
    "collapsed": true,
    "deletable": true,
    "editable": true
   },
   "outputs": [],
   "source": [
    "brown = 13\n",
    "blue = 15\n",
    "orange = 11\n",
    "red = 9\n",
    "green = 5\n",
    "yellow = 4"
   ]
  },
  {
   "cell_type": "markdown",
   "metadata": {
    "deletable": true,
    "editable": true
   },
   "source": [
    "Partner 2: Write code that prints out \"There are more than 5 red M&Ms\" if that condition is met:"
   ]
  },
  {
   "cell_type": "code",
   "execution_count": 9,
   "metadata": {
    "collapsed": false,
    "deletable": true,
    "editable": true
   },
   "outputs": [
    {
     "name": "stdout",
     "output_type": "stream",
     "text": [
      "there are more than 5 red M&Ms\n"
     ]
    }
   ],
   "source": [
    "if red>5:\n",
    "    print(\"there are more than 5 red M&Ms\")"
   ]
  },
  {
   "cell_type": "markdown",
   "metadata": {
    "deletable": true,
    "editable": true
   },
   "source": [
    "Partner 1: Write code that prints out \"There are 6 or fewer green M&Ms\" if that condition is met:"
   ]
  },
  {
   "cell_type": "code",
   "execution_count": 10,
   "metadata": {
    "collapsed": false,
    "deletable": true,
    "editable": true
   },
   "outputs": [
    {
     "name": "stdout",
     "output_type": "stream",
     "text": [
      "there are 6 or fewer green M&Ms\n"
     ]
    }
   ],
   "source": [
    "if green <= 6:\n",
    "    print(\"there are 6 or fewer green M&Ms\")"
   ]
  },
  {
   "cell_type": "markdown",
   "metadata": {
    "deletable": true,
    "editable": true
   },
   "source": [
    "Partner 2: Write code that prints out \"There are more orange than brown M&Ms!\" if that condition is met:"
   ]
  },
  {
   "cell_type": "code",
   "execution_count": 27,
   "metadata": {
    "collapsed": false,
    "deletable": true,
    "editable": true
   },
   "outputs": [
    {
     "name": "stdout",
     "output_type": "stream",
     "text": [
      "there are more orange than brown M&Ms\n"
     ]
    }
   ],
   "source": [
    "if orange>brown:\n",
    "    print(\"there are more orange than brown M&Ms\")\n",
    "    \n",
    "    \n",
    "\n",
    "    "
   ]
  },
  {
   "cell_type": "markdown",
   "metadata": {
    "deletable": true,
    "editable": true
   },
   "source": [
    "Partner 1: Write code that prints out \"There are fewer green than yellow M&Ms! if that condition is met and \"There are not fewer green than yellow M&Ms\" if that condition is not met."
   ]
  },
  {
   "cell_type": "code",
   "execution_count": 16,
   "metadata": {
    "collapsed": false,
    "deletable": true,
    "editable": true
   },
   "outputs": [
    {
     "name": "stdout",
     "output_type": "stream",
     "text": [
      "there are not fewer green than yellow M&Ms\n"
     ]
    }
   ],
   "source": [
    "# Hint: You will need to use the \"else\" command\n",
    "if green<yellow:\n",
    "    print(\"there are fewer green than yellow M&Ms\")\n",
    "else:\n",
    "    print(\"there are not fewer green than yellow M&Ms\")\n",
    "    \n",
    "\n"
   ]
  },
  {
   "cell_type": "markdown",
   "metadata": {
    "deletable": true,
    "editable": true
   },
   "source": [
    "Partner 2: Write code that prints out \"There are more blue than red M&Ms!\" if that condition is met, \"There are more red than blue M&Ms!\" if that condition is met, and \"There are the same number of red and blue M&Ms!\" if that condition is met using if, elif, **and** else statements:"
   ]
  },
  {
   "cell_type": "code",
   "execution_count": 21,
   "metadata": {
    "collapsed": false,
    "deletable": true,
    "editable": true
   },
   "outputs": [
    {
     "name": "stdout",
     "output_type": "stream",
     "text": [
      "there are more blue than red M&Ms\n"
     ]
    }
   ],
   "source": [
    "# Remember to use one \"if\", one \"elif\", and one \"else\"\n",
    "if blue>red:\n",
    "    print(\"there are more blue than red M&Ms\")\n",
    "elif red>blue:\n",
    "    print(\"there are more red than blue M&Ms\")\n",
    "else:\n",
    "    print(\"there are same number of red and blue M&Ms\")\n",
    "    \n",
    "\n",
    "    "
   ]
  },
  {
   "cell_type": "markdown",
   "metadata": {
    "deletable": true,
    "editable": true
   },
   "source": [
    "## Coding Challenge 1\n",
    "Work together to solve this challenge!\n",
    "\n",
    "Write code that prints out the name of the group member(s) whose hypothesis was correct using conditionals. If no one in your group got it right, print out \"No one got it right!\":"
   ]
  },
  {
   "cell_type": "code",
   "execution_count": 38,
   "metadata": {
    "collapsed": false,
    "deletable": true,
    "editable": true
   },
   "outputs": [
    {
     "name": "stdout",
     "output_type": "stream",
     "text": [
      "15\n",
      "ariana is right\n"
     ]
    }
   ],
   "source": [
    "# Hint: You may want to create a list and use the max() function\n",
    "phincho = red\n",
    "ariana =blue\n",
    "veronicka=red\n",
    "ula=red\n",
    "colors_list =[brown,blue,orange,red,green,yellow]\n",
    "print(max(colors_list))\n",
    "if phincho == max(colors_list):\n",
    "    print(\"phincho is right\")\n",
    "elif ariana ==max(colors_list):\n",
    "    print(\"ariana is right\")\n",
    "else:\n",
    "    print(\"no one got it right\")    \n",
    "    \n",
    "    "
   ]
  },
  {
   "cell_type": "markdown",
   "metadata": {
    "deletable": true,
    "editable": true
   },
   "source": [
    "## Coding Challenge 2\n",
    "Go back to all your conditionals that only have an \"if\" statement and add an \"else\" statement of your choice."
   ]
  }
 ],
 "metadata": {
  "kernelspec": {
   "display_name": "Python 3",
   "language": "python",
   "name": "python3"
  },
  "language_info": {
   "codemirror_mode": {
    "name": "ipython",
    "version": 3
   },
   "file_extension": ".py",
   "mimetype": "text/x-python",
   "name": "python",
   "nbconvert_exporter": "python",
   "pygments_lexer": "ipython3",
   "version": "3.5.2"
  }
 },
 "nbformat": 4,
 "nbformat_minor": 2
}
