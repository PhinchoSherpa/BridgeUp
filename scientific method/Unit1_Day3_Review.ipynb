{
 "cells": [
  {
   "cell_type": "markdown",
   "metadata": {
    "deletable": true,
    "editable": true
   },
   "source": [
    "# Conditionals review\n",
    "\n",
    "Complete this review to show off what you know about conditionals in Python. The first group to complete the review successfully will win stickers! \n",
    "\n",
    "**Reminder: To run the code in a Jupyter Notebook cell, click inside the cell and press \"shift\" and \"return\" on your keyboard at the same time.**"
   ]
  },
  {
   "cell_type": "markdown",
   "metadata": {
    "deletable": true,
    "editable": true
   },
   "source": [
    "Pick one of the kinds of data (categorical, discrete, and continuous) and assign that word to a variable:"
   ]
  },
  {
   "cell_type": "code",
   "execution_count": 16,
   "metadata": {
    "collapsed": true,
    "deletable": true,
    "editable": true
   },
   "outputs": [],
   "source": [
    "# What data type is this word? Remember how to format it.\n",
    "data_type = \"discrete\""
   ]
  },
  {
   "cell_type": "markdown",
   "metadata": {
    "deletable": true,
    "editable": true
   },
   "source": [
    "Now write code that prints out the definition of the kind of data stored in your variable. This code should work regardless of which kind of data you picked:"
   ]
  },
  {
   "cell_type": "code",
   "execution_count": 18,
   "metadata": {
    "collapsed": false,
    "deletable": true,
    "editable": true
   },
   "outputs": [
    {
     "name": "stdout",
     "output_type": "stream",
     "text": [
      "is a data which is finite and can be counted\n"
     ]
    }
   ],
   "source": [
    "# Hint: You will need an if, an elif, and an else statement. \n",
    "# Each one will print out a different definition if the right conditions are met.\n",
    "if data_type == \"discrete\":\n",
    "    print(\"is a data which is finite and can be counted\")\n",
    "elif data_type == \"continuous\":\n",
    "    print(\"is a data which can be any value within a range\")\n",
    "else:\n",
    "    print(\"is a data which belongs to fixed number of groups\")\n",
    "    \n",
    "\n",
    "\n",
    "\n",
    "# When you're done, try changing the kind of data you assigned to the variable in the first cell\n",
    "# Rerun the first cell and rerun this cell. Your output should change!"
   ]
  },
  {
   "cell_type": "markdown",
   "metadata": {
    "deletable": true,
    "editable": true
   },
   "source": [
    "Import the numpy library as np:"
   ]
  },
  {
   "cell_type": "code",
   "execution_count": 5,
   "metadata": {
    "collapsed": true,
    "deletable": true,
    "editable": true
   },
   "outputs": [],
   "source": [
    "import numpy as np "
   ]
  },
  {
   "cell_type": "markdown",
   "metadata": {
    "deletable": true,
    "editable": true
   },
   "source": [
    "Now, find the mean of the following list of data using the np.mean() function and assign it to a variable:"
   ]
  },
  {
   "cell_type": "code",
   "execution_count": 21,
   "metadata": {
    "collapsed": false,
    "deletable": true,
    "editable": true
   },
   "outputs": [],
   "source": [
    "data_list = [1, 23.5, 5, 15, 3, 49, 7, 0.5, 32]\n",
    "mean = np.mean(data_list)\n"
   ]
  },
  {
   "cell_type": "markdown",
   "metadata": {
    "deletable": true,
    "editable": true
   },
   "source": [
    "Write a conditional that evaluates the mean of data_list and prints out \"The mean is less than or equal to 20\", or \"The mean is greater than 20\" as appropriate."
   ]
  },
  {
   "cell_type": "code",
   "execution_count": 22,
   "metadata": {
    "collapsed": false,
    "deletable": true,
    "editable": true
   },
   "outputs": [
    {
     "name": "stdout",
     "output_type": "stream",
     "text": [
      "the mean is less than or equal to 20\n"
     ]
    }
   ],
   "source": [
    "# Hint: What data type is your definition? What does that data type need?\n",
    "if mean<= 20:\n",
    "    print(\"the mean is less than or equal to 20\")\n",
    "else:\n",
    "    print(\"the mean is greater than 20\")"
   ]
  },
  {
   "cell_type": "markdown",
   "metadata": {
    "deletable": true,
    "editable": true
   },
   "source": [
    "### Find the bug #1\n",
    "If you run the line of code below, you'll notice it doesn't work! Find and fix the bug in the code to make it run."
   ]
  },
  {
   "cell_type": "code",
   "execution_count": 8,
   "metadata": {
    "collapsed": false,
    "deletable": true,
    "editable": true
   },
   "outputs": [
    {
     "name": "stdout",
     "output_type": "stream",
     "text": [
      "Number is less than 5!\n"
     ]
    }
   ],
   "source": [
    "num = 2\n",
    "if num < 5:\n",
    "    print (\"Number is less than 5!\")"
   ]
  },
  {
   "cell_type": "markdown",
   "metadata": {
    "deletable": true,
    "editable": true
   },
   "source": [
    "### Find the bug #2\n",
    "If you run the line of code below, you'll notice it doesn't work! Find and fix the bug in the code to make it run."
   ]
  },
  {
   "cell_type": "code",
   "execution_count": 9,
   "metadata": {
    "collapsed": false,
    "deletable": true,
    "editable": true
   },
   "outputs": [
    {
     "name": "stdout",
     "output_type": "stream",
     "text": [
      "Number is not less than 3!\n"
     ]
    }
   ],
   "source": [
    "num = 3\n",
    "if num >= 3:\n",
    "    print (\"Number is not less than 3!\")\n",
    "    "
   ]
  },
  {
   "cell_type": "markdown",
   "metadata": {
    "deletable": true,
    "editable": true
   },
   "source": [
    "### Find the bug #3\n",
    "If you run the line of code below, you'll notice it doesn't work! Find and fix the bug in the code to make it run."
   ]
  },
  {
   "cell_type": "code",
   "execution_count": 10,
   "metadata": {
    "collapsed": false,
    "deletable": true,
    "editable": true
   },
   "outputs": [
    {
     "name": "stdout",
     "output_type": "stream",
     "text": [
      "Number is equal to 5!\n"
     ]
    }
   ],
   "source": [
    "num = 5\n",
    "\n",
    "if num == 5:\n",
    "    print (\"Number is equal to 5!\")\n",
    "else:    \n",
    "    print (\"Number is not equal to 5!\")"
   ]
  },
  {
   "cell_type": "code",
   "execution_count": null,
   "metadata": {
    "collapsed": true,
    "deletable": true,
    "editable": true
   },
   "outputs": [],
   "source": []
  }
 ],
 "metadata": {
  "kernelspec": {
   "display_name": "Python 3",
   "language": "python",
   "name": "python3"
  },
  "language_info": {
   "codemirror_mode": {
    "name": "ipython",
    "version": 3
   },
   "file_extension": ".py",
   "mimetype": "text/x-python",
   "name": "python",
   "nbconvert_exporter": "python",
   "pygments_lexer": "ipython3",
   "version": "3.5.2"
  }
 },
 "nbformat": 4,
 "nbformat_minor": 2
}
