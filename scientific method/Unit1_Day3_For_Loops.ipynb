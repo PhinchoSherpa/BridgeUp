{
 "cells": [
  {
   "cell_type": "markdown",
   "metadata": {
    "deletable": true,
    "editable": true
   },
   "source": [
    "# \"For loops\"\n",
    "\n",
    "This notebook introduces you to \"for loops\" and shows you how you can use them to make coding easier!\n",
    "\n",
    "If it's your cell, you should type and your partner should advise you. Then your partner can type the code in her own Notebook."
   ]
  },
  {
   "cell_type": "markdown",
   "metadata": {
    "deletable": true,
    "editable": true
   },
   "source": [
    "### Use this cell to follow along in the live code session:"
   ]
  },
  {
   "cell_type": "code",
   "execution_count": 14,
   "metadata": {
    "collapsed": false,
    "deletable": true,
    "editable": true
   },
   "outputs": [
    {
     "name": "stdout",
     "output_type": "stream",
     "text": [
      "num is less than 5\n",
      "num is not less than 5\n",
      "num is less than 5\n",
      "num is not less than 5\n",
      "num is not less than 5\n",
      "num is less than 5\n",
      "num is less than 5\n",
      "num is not less than 5\n",
      "num is less than 5\n"
     ]
    }
   ],
   "source": [
    "my_value = [2.3,5,2.0,7,8.6,3,-4,7,0]\n",
    "for num in my_value:\n",
    "    if num<5:\n",
    "        print(\"num is less than 5\")\n",
    "    else:\n",
    "        print(\"num is not less than 5\")\n",
    "        \n",
    "        \n",
    "        "
   ]
  },
  {
   "cell_type": "markdown",
   "metadata": {
    "deletable": true,
    "editable": true
   },
   "source": [
    "### Working with our data\n",
    "Copy and paste the list with all of the M&M weights from Slack and assign it to a variable:"
   ]
  },
  {
   "cell_type": "code",
   "execution_count": 15,
   "metadata": {
    "collapsed": true,
    "deletable": true,
    "editable": true
   },
   "outputs": [],
   "source": [
    "weights=[1.76, 1.76, 1.73, 1.76, 1.76, 1.76, 1.69, 1.76, 1.69, 1.76, 1.73, 1.69, 1.73, 1.69, 1.76, 1.76, 1.76, 1.76, 1.73, 1.80]"
   ]
  },
  {
   "cell_type": "markdown",
   "metadata": {
    "deletable": true,
    "editable": true
   },
   "source": [
    "Partner 1: Write code that compares the first item in the M&M weight list to the stated weight (1.69) and prints out if it is greater, less, or the same."
   ]
  },
  {
   "cell_type": "code",
   "execution_count": 16,
   "metadata": {
    "collapsed": false,
    "deletable": true,
    "editable": true
   },
   "outputs": [
    {
     "name": "stdout",
     "output_type": "stream",
     "text": [
      "it is greater\n"
     ]
    }
   ],
   "source": [
    "# Hint: You will need an index!\n",
    "stated_weight=1.69\n",
    "if weights[0]>stated_weight:\n",
    "    print(\"it is greater\")\n",
    "elif weights[0]<stated_weights:\n",
    "    print(\"it is less\")\n",
    "else:\n",
    "    print(\"it is same\")\n",
    "    \n"
   ]
  },
  {
   "cell_type": "markdown",
   "metadata": {
    "deletable": true,
    "editable": true
   },
   "source": [
    "Partner 2: Write code that compares the second item in the M&M weight list to the stated weight (1.69) and prints out if it is greater, less, or the same."
   ]
  },
  {
   "cell_type": "code",
   "execution_count": 17,
   "metadata": {
    "collapsed": false,
    "deletable": true,
    "editable": true
   },
   "outputs": [
    {
     "name": "stdout",
     "output_type": "stream",
     "text": [
      "it is greater\n"
     ]
    }
   ],
   "source": [
    "if weights[1]>stated_weight:\n",
    "    print(\"it is greater\")\n",
    "elif weights[1]<stated_weights:\n",
    "    print(\"it is less\")\n",
    "else:\n",
    "    print(\"it is same\")"
   ]
  },
  {
   "cell_type": "markdown",
   "metadata": {
    "deletable": true,
    "editable": true
   },
   "source": [
    "Partner 1: Write code that compares the third item in the M&M weight list to the stated weight (1.69) and prints out if it is greater, less, or the same."
   ]
  },
  {
   "cell_type": "code",
   "execution_count": 18,
   "metadata": {
    "collapsed": false,
    "deletable": true,
    "editable": true
   },
   "outputs": [
    {
     "name": "stdout",
     "output_type": "stream",
     "text": [
      "it is greater\n"
     ]
    }
   ],
   "source": [
    "if weights[2]>stated_weight:\n",
    "    print(\"it is greater\")\n",
    "elif weights[2]<stated_weights:\n",
    "    print(\"it is less\")\n",
    "else:\n",
    "    print(\"it is same\")"
   ]
  },
  {
   "cell_type": "markdown",
   "metadata": {
    "deletable": true,
    "editable": true
   },
   "source": [
    "## Is this getting tedious? It's time to use a \"for loop\"!\n",
    "Let's start simple.\n",
    "Partner 1: Write a \"for loop\" that loops through all the weights in the list and prints them out."
   ]
  },
  {
   "cell_type": "code",
   "execution_count": 19,
   "metadata": {
    "collapsed": false,
    "deletable": true,
    "editable": true
   },
   "outputs": [
    {
     "name": "stdout",
     "output_type": "stream",
     "text": [
      "1.76\n",
      "1.76\n",
      "1.73\n",
      "1.76\n",
      "1.76\n",
      "1.76\n",
      "1.69\n",
      "1.76\n",
      "1.69\n",
      "1.76\n",
      "1.73\n",
      "1.69\n",
      "1.73\n",
      "1.69\n",
      "1.76\n",
      "1.76\n",
      "1.76\n",
      "1.76\n",
      "1.73\n",
      "1.8\n"
     ]
    }
   ],
   "source": [
    "for value in weights:\n",
    "    print(value)"
   ]
  },
  {
   "cell_type": "markdown",
   "metadata": {
    "deletable": true,
    "editable": true
   },
   "source": [
    "Now, let's add conditionals! Partner 2: Write a \"for loop\" that loops through all the weights, compares each one to the stated weight (1.69) and prints out if they are greater, less, or the same."
   ]
  },
  {
   "cell_type": "code",
   "execution_count": 22,
   "metadata": {
    "collapsed": false,
    "deletable": true,
    "editable": true
   },
   "outputs": [
    {
     "name": "stdout",
     "output_type": "stream",
     "text": [
      "it is greater\n",
      "it is greater\n",
      "it is greater\n",
      "it is greater\n",
      "it is greater\n",
      "it is greater\n",
      "it is the same\n",
      "it is greater\n",
      "it is the same\n",
      "it is greater\n",
      "it is greater\n",
      "it is the same\n",
      "it is greater\n",
      "it is the same\n",
      "it is greater\n",
      "it is greater\n",
      "it is greater\n",
      "it is greater\n",
      "it is greater\n",
      "it is greater\n"
     ]
    }
   ],
   "source": [
    "for value in weights:\n",
    "    if value>stated_weight:\n",
    "        print(\"it is greater\")\n",
    "    elif value<stated_weight:\n",
    "        print(\"it is less\")\n",
    "    else:\n",
    "        print(\"it is the same\")\n",
    "        "
   ]
  },
  {
   "cell_type": "markdown",
   "metadata": {
    "deletable": true,
    "editable": true
   },
   "source": [
    "## Coding Challenge\n",
    "Change your \"for loop\" code so that it keeps track of how many weights were greater than the stated weight and how many were less than the stated weight and then prints out the final amounts.\n",
    "\n",
    "Hint: You will need to define a variable outside of the \"for loop\" and then add to it inside the \"for loop\"."
   ]
  },
  {
   "cell_type": "code",
   "execution_count": 26,
   "metadata": {
    "collapsed": false,
    "deletable": true,
    "editable": true
   },
   "outputs": [
    {
     "data": {
      "text/plain": [
       "20"
      ]
     },
     "execution_count": 26,
     "metadata": {},
     "output_type": "execute_result"
    }
   ],
   "source": [
    "best=[]\n",
    "worst=[]\n",
    "same=[]\n",
    "for candy in \n"
   ]
  },
  {
   "cell_type": "code",
   "execution_count": null,
   "metadata": {
    "collapsed": true
   },
   "outputs": [],
   "source": []
  }
 ],
 "metadata": {
  "kernelspec": {
   "display_name": "Python 3",
   "language": "python",
   "name": "python3"
  },
  "language_info": {
   "codemirror_mode": {
    "name": "ipython",
    "version": 3
   },
   "file_extension": ".py",
   "mimetype": "text/x-python",
   "name": "python",
   "nbconvert_exporter": "python",
   "pygments_lexer": "ipython3",
   "version": "3.5.2"
  }
 },
 "nbformat": 4,
 "nbformat_minor": 2
}
