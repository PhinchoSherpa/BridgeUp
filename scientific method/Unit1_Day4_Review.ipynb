{
 "cells": [
  {
   "cell_type": "markdown",
   "metadata": {
    "deletable": true,
    "editable": true
   },
   "source": [
    "# For Loops review\n",
    "\n",
    "Complete this review to show off what you know about for loops in Python. The first group to complete the review successfully will win stickers! \n",
    "\n",
    "**Reminder: To run the code in a Jupyter Notebook cell, click inside the cell and press \"shift\" and \"return\" on your keyboard at the same time.**"
   ]
  },
  {
   "cell_type": "markdown",
   "metadata": {
    "deletable": true,
    "editable": true
   },
   "source": [
    "Write a \"for loop\" that loops through the following list and prints out all the items:"
   ]
  },
  {
   "cell_type": "code",
   "execution_count": 1,
   "metadata": {
    "collapsed": false,
    "deletable": true,
    "editable": true
   },
   "outputs": [
    {
     "name": "stdout",
     "output_type": "stream",
     "text": [
      "hello\n",
      "7.5\n",
      "0\n",
      "cat\n",
      "80\n",
      "dog\n"
     ]
    }
   ],
   "source": [
    "review_list = [\"hello\", 7.5, 0, \"cat\", 80, \"dog\"]\n",
    "\n",
    "for value in review_list:\n",
    "    print(value)"
   ]
  },
  {
   "cell_type": "markdown",
   "metadata": {
    "deletable": true,
    "editable": true
   },
   "source": [
    "Write a \"for loop\" that loops through the following list and prints out only the items that are greater than 5:"
   ]
  },
  {
   "cell_type": "code",
   "execution_count": 9,
   "metadata": {
    "collapsed": false,
    "deletable": true,
    "editable": true
   },
   "outputs": [
    {
     "name": "stdout",
     "output_type": "stream",
     "text": [
      "67\n",
      "5.5\n",
      "25\n",
      "11\n",
      "7\n"
     ]
    }
   ],
   "source": [
    "review_list_2 = [2, 67, 5.5, 3.9, 0, 25, 11, 7, 1, 0.4]\n",
    "for view in review_list_2:\n",
    "    if view > 5:\n",
    "        print(view)\n",
    " "
   ]
  },
  {
   "cell_type": "markdown",
   "metadata": {
    "deletable": true,
    "editable": true
   },
   "source": [
    "### Find the bug #1\n",
    "If you run the line of code below, you'll notice it doesn't work! Find and fix the bug in the code to make it run."
   ]
  },
  {
   "cell_type": "code",
   "execution_count": 5,
   "metadata": {
    "collapsed": false,
    "deletable": true,
    "editable": true
   },
   "outputs": [
    {
     "name": "stdout",
     "output_type": "stream",
     "text": [
      "2\n",
      "3\n",
      "5\n",
      "0\n",
      "7\n",
      "1\n"
     ]
    }
   ],
   "source": [
    "bug_list_1 = [2, 3, 5, 0, 7, 1]\n",
    "\n",
    "for num in bug_list_1:\n",
    "    print(num)"
   ]
  },
  {
   "cell_type": "markdown",
   "metadata": {
    "deletable": true,
    "editable": true
   },
   "source": [
    "### Find the bug #2\n",
    "If you run the line of code below, you'll notice it doesn't work! Find and fix the bug in the code to make it run."
   ]
  },
  {
   "cell_type": "code",
   "execution_count": 6,
   "metadata": {
    "collapsed": false,
    "deletable": true,
    "editable": true
   },
   "outputs": [
    {
     "name": "stdout",
     "output_type": "stream",
     "text": [
      "hello\n",
      "hi\n",
      "what's up\n"
     ]
    }
   ],
   "source": [
    "bug_list_2 = [\"hello\", \"hi\", \"what's up\"]\n",
    "\n",
    "for word in bug_list_2:\n",
    "    print(word)"
   ]
  },
  {
   "cell_type": "markdown",
   "metadata": {
    "deletable": true,
    "editable": true
   },
   "source": [
    "### Find the bug #3\n",
    "If you run the line of code below, you'll notice it doesn't work! Find and fix the bug in the code to make it run."
   ]
  },
  {
   "cell_type": "code",
   "execution_count": 7,
   "metadata": {
    "collapsed": false,
    "deletable": true,
    "editable": true
   },
   "outputs": [
    {
     "name": "stdout",
     "output_type": "stream",
     "text": [
      "-2\n",
      "0\n",
      "-3\n",
      "0.5\n",
      "5\n",
      "-5\n"
     ]
    }
   ],
   "source": [
    "bug_list_3 = [-2, 0, -3, 0.5, 5, -5]\n",
    "\n",
    "for value in bug_list_3:\n",
    "    print(value)\n"
   ]
  },
  {
   "cell_type": "code",
   "execution_count": null,
   "metadata": {
    "collapsed": true
   },
   "outputs": [],
   "source": []
  }
 ],
 "metadata": {
  "kernelspec": {
   "display_name": "Python 3",
   "language": "python",
   "name": "python3"
  },
  "language_info": {
   "codemirror_mode": {
    "name": "ipython",
    "version": 3
   },
   "file_extension": ".py",
   "mimetype": "text/x-python",
   "name": "python",
   "nbconvert_exporter": "python",
   "pygments_lexer": "ipython3",
   "version": "3.5.2"
  }
 },
 "nbformat": 4,
 "nbformat_minor": 2
}
