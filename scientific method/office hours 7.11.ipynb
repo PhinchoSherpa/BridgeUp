{
 "cells": [
  {
   "cell_type": "code",
   "execution_count": 10,
   "metadata": {
    "collapsed": false
   },
   "outputs": [
    {
     "name": "stdout",
     "output_type": "stream",
     "text": [
      "5\n",
      "there are more than 3\n"
     ]
    }
   ],
   "source": [
    "office_hours = [3,5.7,2,1,6]\n",
    "print(len(office_hours))\n",
    "if len(office_hours) > 3:\n",
    "    print(\"there are more than 3\")\n",
    "elif len(office_hours)==3:\n",
    "    print(\"there are 3 items on the list\")\n",
    "else:\n",
    "    print(\"there are less than 3 items in the list\")"
   ]
  },
  {
   "cell_type": "code",
   "execution_count": null,
   "metadata": {
    "collapsed": true
   },
   "outputs": [],
   "source": []
  },
  {
   "cell_type": "code",
   "execution_count": null,
   "metadata": {
    "collapsed": true
   },
   "outputs": [],
   "source": []
  }
 ],
 "metadata": {
  "kernelspec": {
   "display_name": "Python 3",
   "language": "python",
   "name": "python3"
  },
  "language_info": {
   "codemirror_mode": {
    "name": "ipython",
    "version": 3
   },
   "file_extension": ".py",
   "mimetype": "text/x-python",
   "name": "python",
   "nbconvert_exporter": "python",
   "pygments_lexer": "ipython3",
   "version": "3.5.2"
  }
 },
 "nbformat": 4,
 "nbformat_minor": 2
}
