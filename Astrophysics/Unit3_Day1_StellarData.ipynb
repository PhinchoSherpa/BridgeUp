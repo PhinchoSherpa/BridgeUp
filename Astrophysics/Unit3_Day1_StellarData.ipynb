{
 "cells": [
  {
   "cell_type": "markdown",
   "metadata": {
    "deletable": true,
    "editable": true
   },
   "source": [
    "# Using pandas to study the stars\n",
    "\n",
    "The Tycho-Gaia Astrometric Solution (TGAS) is a collection of 2.5 million stars identified by the Gaia astronomical observatory, a spacecraft launched in 2013. In this notebook, you will practice your pandas skills with a fraction of that dataset."
   ]
  },
  {
   "cell_type": "markdown",
   "metadata": {
    "deletable": true,
    "editable": true
   },
   "source": [
    "First, import pandas with the alias \"pd\":"
   ]
  },
  {
   "cell_type": "code",
   "execution_count": 14,
   "metadata": {
    "collapsed": true,
    "deletable": true,
    "editable": true
   },
   "outputs": [],
   "source": [
    "import pandas as pd\n",
    "import matplotlib.pyplot as plt\n",
    "import csv\n",
    "import numpy as np"
   ]
  },
  {
   "cell_type": "markdown",
   "metadata": {
    "deletable": true,
    "editable": true
   },
   "source": [
    "Now, open the \"TGAS_data.csv\" file using the .read_csv() function."
   ]
  },
  {
   "cell_type": "code",
   "execution_count": 2,
   "metadata": {
    "collapsed": true,
    "deletable": true,
    "editable": true
   },
   "outputs": [],
   "source": [
    "df=pd.read_csv(\"TGAS_data.csv\")"
   ]
  },
  {
   "cell_type": "markdown",
   "metadata": {
    "deletable": true,
    "editable": true
   },
   "source": [
    "Look at the first five rows of the dataframe using the .head() function."
   ]
  },
  {
   "cell_type": "code",
   "execution_count": 3,
   "metadata": {
    "collapsed": false,
    "deletable": true,
    "editable": true
   },
   "outputs": [
    {
     "data": {
      "text/html": [
       "<div>\n",
       "<style>\n",
       "    .dataframe thead tr:only-child th {\n",
       "        text-align: right;\n",
       "    }\n",
       "\n",
       "    .dataframe thead th {\n",
       "        text-align: left;\n",
       "    }\n",
       "\n",
       "    .dataframe tbody tr th {\n",
       "        vertical-align: top;\n",
       "    }\n",
       "</style>\n",
       "<table border=\"1\" class=\"dataframe\">\n",
       "  <thead>\n",
       "    <tr style=\"text-align: right;\">\n",
       "      <th></th>\n",
       "      <th>source_id</th>\n",
       "      <th>random_index</th>\n",
       "      <th>ref_epoch</th>\n",
       "      <th>ra</th>\n",
       "      <th>ra_error</th>\n",
       "      <th>dec</th>\n",
       "      <th>dec_error</th>\n",
       "      <th>parallax</th>\n",
       "      <th>parallax_error</th>\n",
       "      <th>pmra</th>\n",
       "      <th>pmra_error</th>\n",
       "    </tr>\n",
       "  </thead>\n",
       "  <tbody>\n",
       "    <tr>\n",
       "      <th>0</th>\n",
       "      <td>7.627860e+12</td>\n",
       "      <td>243619</td>\n",
       "      <td>2015</td>\n",
       "      <td>45.034330</td>\n",
       "      <td>0.305989</td>\n",
       "      <td>0.235392</td>\n",
       "      <td>0.218802</td>\n",
       "      <td>6.352951</td>\n",
       "      <td>0.307910</td>\n",
       "      <td>43.752313</td>\n",
       "      <td>0.070542</td>\n",
       "    </tr>\n",
       "    <tr>\n",
       "      <th>1</th>\n",
       "      <td>9.277130e+12</td>\n",
       "      <td>487238</td>\n",
       "      <td>2015</td>\n",
       "      <td>45.165007</td>\n",
       "      <td>2.583882</td>\n",
       "      <td>0.200068</td>\n",
       "      <td>1.197789</td>\n",
       "      <td>3.900329</td>\n",
       "      <td>0.323488</td>\n",
       "      <td>10.036263</td>\n",
       "      <td>4.611414</td>\n",
       "    </tr>\n",
       "    <tr>\n",
       "      <th>2</th>\n",
       "      <td>1.329720e+13</td>\n",
       "      <td>1948952</td>\n",
       "      <td>2015</td>\n",
       "      <td>45.086155</td>\n",
       "      <td>0.213836</td>\n",
       "      <td>0.248825</td>\n",
       "      <td>0.180326</td>\n",
       "      <td>3.155313</td>\n",
       "      <td>0.273484</td>\n",
       "      <td>2.932284</td>\n",
       "      <td>1.908644</td>\n",
       "    </tr>\n",
       "    <tr>\n",
       "      <th>3</th>\n",
       "      <td>1.346900e+13</td>\n",
       "      <td>102321</td>\n",
       "      <td>2015</td>\n",
       "      <td>45.066542</td>\n",
       "      <td>0.276039</td>\n",
       "      <td>0.248211</td>\n",
       "      <td>0.200958</td>\n",
       "      <td>2.292367</td>\n",
       "      <td>0.280972</td>\n",
       "      <td>3.661982</td>\n",
       "      <td>2.065052</td>\n",
       "    </tr>\n",
       "    <tr>\n",
       "      <th>4</th>\n",
       "      <td>1.573680e+13</td>\n",
       "      <td>409284</td>\n",
       "      <td>2015</td>\n",
       "      <td>45.136038</td>\n",
       "      <td>0.170697</td>\n",
       "      <td>0.335044</td>\n",
       "      <td>0.170130</td>\n",
       "      <td>1.582077</td>\n",
       "      <td>0.261539</td>\n",
       "      <td>0.340802</td>\n",
       "      <td>1.220476</td>\n",
       "    </tr>\n",
       "  </tbody>\n",
       "</table>\n",
       "</div>"
      ],
      "text/plain": [
       "      source_id  random_index  ref_epoch         ra  ra_error       dec  \\\n",
       "0  7.627860e+12        243619       2015  45.034330  0.305989  0.235392   \n",
       "1  9.277130e+12        487238       2015  45.165007  2.583882  0.200068   \n",
       "2  1.329720e+13       1948952       2015  45.086155  0.213836  0.248825   \n",
       "3  1.346900e+13        102321       2015  45.066542  0.276039  0.248211   \n",
       "4  1.573680e+13        409284       2015  45.136038  0.170697  0.335044   \n",
       "\n",
       "   dec_error  parallax  parallax_error       pmra  pmra_error  \n",
       "0   0.218802  6.352951        0.307910  43.752313    0.070542  \n",
       "1   1.197789  3.900329        0.323488  10.036263    4.611414  \n",
       "2   0.180326  3.155313        0.273484   2.932284    1.908644  \n",
       "3   0.200958  2.292367        0.280972   3.661982    2.065052  \n",
       "4   0.170130  1.582077        0.261539   0.340802    1.220476  "
      ]
     },
     "execution_count": 3,
     "metadata": {},
     "output_type": "execute_result"
    }
   ],
   "source": [
    "df.head()"
   ]
  },
  {
   "cell_type": "markdown",
   "metadata": {
    "deletable": true,
    "editable": true
   },
   "source": [
    "How many rows are there in this dataframe? Hint: You can use the len() function."
   ]
  },
  {
   "cell_type": "code",
   "execution_count": 4,
   "metadata": {
    "collapsed": false,
    "deletable": true,
    "editable": true
   },
   "outputs": [
    {
     "name": "stdout",
     "output_type": "stream",
     "text": [
      "134865\n"
     ]
    }
   ],
   "source": [
    "print(len(df))"
   ]
  },
  {
   "cell_type": "markdown",
   "metadata": {
    "deletable": true,
    "editable": true
   },
   "source": [
    "You might notice that one of the columns contains the parallax angle for each star (remember: nearby objects have a larger parallax angle than far away objects).\n",
    "\n",
    "Store the \"parallax\" column in a variable."
   ]
  },
  {
   "cell_type": "code",
   "execution_count": 5,
   "metadata": {
    "collapsed": true,
    "deletable": true,
    "editable": true
   },
   "outputs": [],
   "source": [
    "para=df[\"parallax\"]"
   ]
  },
  {
   "cell_type": "markdown",
   "metadata": {
    "deletable": true,
    "editable": true
   },
   "source": [
    "Find the mean parallax angle for this dataset."
   ]
  },
  {
   "cell_type": "code",
   "execution_count": 6,
   "metadata": {
    "collapsed": false,
    "deletable": true,
    "editable": true
   },
   "outputs": [
    {
     "data": {
      "text/plain": [
       "2.5105004636838237"
      ]
     },
     "execution_count": 6,
     "metadata": {},
     "output_type": "execute_result"
    }
   ],
   "source": [
    "para.mean()"
   ]
  },
  {
   "cell_type": "markdown",
   "metadata": {
    "deletable": true,
    "editable": true
   },
   "source": [
    "Sort the entire dataframe by parallax angle from largest to smallest and print out the first 10 rows of the sorted dataframe."
   ]
  },
  {
   "cell_type": "code",
   "execution_count": 9,
   "metadata": {
    "collapsed": false,
    "deletable": true,
    "editable": true
   },
   "outputs": [
    {
     "data": {
      "text/html": [
       "<div>\n",
       "<style>\n",
       "    .dataframe thead tr:only-child th {\n",
       "        text-align: right;\n",
       "    }\n",
       "\n",
       "    .dataframe thead th {\n",
       "        text-align: left;\n",
       "    }\n",
       "\n",
       "    .dataframe tbody tr th {\n",
       "        vertical-align: top;\n",
       "    }\n",
       "</style>\n",
       "<table border=\"1\" class=\"dataframe\">\n",
       "  <thead>\n",
       "    <tr style=\"text-align: right;\">\n",
       "      <th></th>\n",
       "      <th>source_id</th>\n",
       "      <th>random_index</th>\n",
       "      <th>ref_epoch</th>\n",
       "      <th>ra</th>\n",
       "      <th>ra_error</th>\n",
       "      <th>dec</th>\n",
       "      <th>dec_error</th>\n",
       "      <th>parallax</th>\n",
       "      <th>parallax_error</th>\n",
       "      <th>pmra</th>\n",
       "      <th>pmra_error</th>\n",
       "    </tr>\n",
       "  </thead>\n",
       "  <tbody>\n",
       "    <tr>\n",
       "      <th>94182</th>\n",
       "      <td>3.853340e+17</td>\n",
       "      <td>1891830</td>\n",
       "      <td>2015</td>\n",
       "      <td>4.612109</td>\n",
       "      <td>0.287586</td>\n",
       "      <td>44.024673</td>\n",
       "      <td>0.367812</td>\n",
       "      <td>280.740075</td>\n",
       "      <td>0.305500</td>\n",
       "      <td>2890.430683</td>\n",
       "      <td>0.045499</td>\n",
       "    </tr>\n",
       "    <tr>\n",
       "      <th>60079</th>\n",
       "      <td>2.728560e+17</td>\n",
       "      <td>995879</td>\n",
       "      <td>2015</td>\n",
       "      <td>69.422644</td>\n",
       "      <td>0.731638</td>\n",
       "      <td>52.891635</td>\n",
       "      <td>0.483035</td>\n",
       "      <td>101.233485</td>\n",
       "      <td>0.323176</td>\n",
       "      <td>304.133888</td>\n",
       "      <td>0.058960</td>\n",
       "    </tr>\n",
       "    <tr>\n",
       "      <th>22819</th>\n",
       "      <td>1.454210e+17</td>\n",
       "      <td>689496</td>\n",
       "      <td>2015</td>\n",
       "      <td>67.250215</td>\n",
       "      <td>0.242147</td>\n",
       "      <td>21.923427</td>\n",
       "      <td>0.129090</td>\n",
       "      <td>89.041322</td>\n",
       "      <td>0.262731</td>\n",
       "      <td>-67.095509</td>\n",
       "      <td>0.082876</td>\n",
       "    </tr>\n",
       "    <tr>\n",
       "      <th>94799</th>\n",
       "      <td>3.866540e+17</td>\n",
       "      <td>851626</td>\n",
       "      <td>2015</td>\n",
       "      <td>1.426237</td>\n",
       "      <td>0.307011</td>\n",
       "      <td>45.811419</td>\n",
       "      <td>0.286776</td>\n",
       "      <td>88.262860</td>\n",
       "      <td>0.430357</td>\n",
       "      <td>889.089787</td>\n",
       "      <td>0.060094</td>\n",
       "    </tr>\n",
       "    <tr>\n",
       "      <th>63286</th>\n",
       "      <td>2.835700e+17</td>\n",
       "      <td>1345457</td>\n",
       "      <td>2015</td>\n",
       "      <td>86.453810</td>\n",
       "      <td>0.097230</td>\n",
       "      <td>62.233497</td>\n",
       "      <td>0.132750</td>\n",
       "      <td>74.202164</td>\n",
       "      <td>0.253300</td>\n",
       "      <td>297.566971</td>\n",
       "      <td>0.067006</td>\n",
       "    </tr>\n",
       "    <tr>\n",
       "      <th>58961</th>\n",
       "      <td>2.690680e+17</td>\n",
       "      <td>216910</td>\n",
       "      <td>2015</td>\n",
       "      <td>89.907373</td>\n",
       "      <td>0.274176</td>\n",
       "      <td>58.591954</td>\n",
       "      <td>0.283633</td>\n",
       "      <td>74.185025</td>\n",
       "      <td>0.325805</td>\n",
       "      <td>9.084194</td>\n",
       "      <td>0.096984</td>\n",
       "    </tr>\n",
       "    <tr>\n",
       "      <th>58371</th>\n",
       "      <td>2.668470e+17</td>\n",
       "      <td>1952397</td>\n",
       "      <td>2015</td>\n",
       "      <td>75.858634</td>\n",
       "      <td>0.282263</td>\n",
       "      <td>53.122061</td>\n",
       "      <td>0.321951</td>\n",
       "      <td>72.894533</td>\n",
       "      <td>0.354967</td>\n",
       "      <td>1302.877435</td>\n",
       "      <td>0.115796</td>\n",
       "    </tr>\n",
       "    <tr>\n",
       "      <th>26634</th>\n",
       "      <td>1.706400e+17</td>\n",
       "      <td>1549490</td>\n",
       "      <td>2015</td>\n",
       "      <td>62.158466</td>\n",
       "      <td>0.246399</td>\n",
       "      <td>33.637562</td>\n",
       "      <td>0.102616</td>\n",
       "      <td>72.002273</td>\n",
       "      <td>0.258425</td>\n",
       "      <td>526.982839</td>\n",
       "      <td>0.207995</td>\n",
       "    </tr>\n",
       "    <tr>\n",
       "      <th>12299</th>\n",
       "      <td>8.792150e+16</td>\n",
       "      <td>868068</td>\n",
       "      <td>2015</td>\n",
       "      <td>38.973222</td>\n",
       "      <td>0.374186</td>\n",
       "      <td>20.219299</td>\n",
       "      <td>0.226397</td>\n",
       "      <td>71.268160</td>\n",
       "      <td>0.331243</td>\n",
       "      <td>249.922590</td>\n",
       "      <td>0.117825</td>\n",
       "    </tr>\n",
       "    <tr>\n",
       "      <th>9605</th>\n",
       "      <td>7.005160e+16</td>\n",
       "      <td>1745571</td>\n",
       "      <td>2015</td>\n",
       "      <td>56.585713</td>\n",
       "      <td>0.369864</td>\n",
       "      <td>26.214688</td>\n",
       "      <td>0.246812</td>\n",
       "      <td>69.565046</td>\n",
       "      <td>0.379625</td>\n",
       "      <td>386.935217</td>\n",
       "      <td>0.119310</td>\n",
       "    </tr>\n",
       "  </tbody>\n",
       "</table>\n",
       "</div>"
      ],
      "text/plain": [
       "          source_id  random_index  ref_epoch         ra  ra_error        dec  \\\n",
       "94182  3.853340e+17       1891830       2015   4.612109  0.287586  44.024673   \n",
       "60079  2.728560e+17        995879       2015  69.422644  0.731638  52.891635   \n",
       "22819  1.454210e+17        689496       2015  67.250215  0.242147  21.923427   \n",
       "94799  3.866540e+17        851626       2015   1.426237  0.307011  45.811419   \n",
       "63286  2.835700e+17       1345457       2015  86.453810  0.097230  62.233497   \n",
       "58961  2.690680e+17        216910       2015  89.907373  0.274176  58.591954   \n",
       "58371  2.668470e+17       1952397       2015  75.858634  0.282263  53.122061   \n",
       "26634  1.706400e+17       1549490       2015  62.158466  0.246399  33.637562   \n",
       "12299  8.792150e+16        868068       2015  38.973222  0.374186  20.219299   \n",
       "9605   7.005160e+16       1745571       2015  56.585713  0.369864  26.214688   \n",
       "\n",
       "       dec_error    parallax  parallax_error         pmra  pmra_error  \n",
       "94182   0.367812  280.740075        0.305500  2890.430683    0.045499  \n",
       "60079   0.483035  101.233485        0.323176   304.133888    0.058960  \n",
       "22819   0.129090   89.041322        0.262731   -67.095509    0.082876  \n",
       "94799   0.286776   88.262860        0.430357   889.089787    0.060094  \n",
       "63286   0.132750   74.202164        0.253300   297.566971    0.067006  \n",
       "58961   0.283633   74.185025        0.325805     9.084194    0.096984  \n",
       "58371   0.321951   72.894533        0.354967  1302.877435    0.115796  \n",
       "26634   0.102616   72.002273        0.258425   526.982839    0.207995  \n",
       "12299   0.226397   71.268160        0.331243   249.922590    0.117825  \n",
       "9605    0.246812   69.565046        0.379625   386.935217    0.119310  "
      ]
     },
     "execution_count": 9,
     "metadata": {},
     "output_type": "execute_result"
    }
   ],
   "source": [
    "df_sorted = df.sort_values([\"parallax\"], ascending = False)\n",
    "df_sorted.head(10)"
   ]
  },
  {
   "cell_type": "markdown",
   "metadata": {
    "deletable": true,
    "editable": true
   },
   "source": [
    "You can index a single item from a row of the dataframe as follows:"
   ]
  },
  {
   "cell_type": "code",
   "execution_count": 10,
   "metadata": {
    "collapsed": false,
    "deletable": true,
    "editable": true
   },
   "outputs": [
    {
     "data": {
      "text/plain": [
       "1891830"
      ]
     },
     "execution_count": 10,
     "metadata": {},
     "output_type": "execute_result"
    }
   ],
   "source": [
    "df[\"random_index\"][94182] # Use a the following format: df[column name/variable][row index]"
   ]
  },
  {
   "cell_type": "markdown",
   "metadata": {
    "deletable": true,
    "editable": true
   },
   "source": [
    "Try it yourself! Find the \"random index\" (ID number) for the star in row index 1."
   ]
  },
  {
   "cell_type": "code",
   "execution_count": 11,
   "metadata": {
    "collapsed": false,
    "deletable": true,
    "editable": true
   },
   "outputs": [
    {
     "data": {
      "text/plain": [
       "216910"
      ]
     },
     "execution_count": 11,
     "metadata": {},
     "output_type": "execute_result"
    }
   ],
   "source": [
    "df[\"random_index\"][58961]"
   ]
  },
  {
   "cell_type": "markdown",
   "metadata": {
    "deletable": true,
    "editable": true
   },
   "source": [
    "Now find the parallax angle for this star."
   ]
  },
  {
   "cell_type": "code",
   "execution_count": 13,
   "metadata": {
    "collapsed": false,
    "deletable": true,
    "editable": true
   },
   "outputs": [
    {
     "data": {
      "text/plain": [
       "9.0841942289999995"
      ]
     },
     "execution_count": 13,
     "metadata": {},
     "output_type": "execute_result"
    }
   ],
   "source": [
    "df[\"pmra\"][58961]"
   ]
  },
  {
   "cell_type": "markdown",
   "metadata": {
    "deletable": true,
    "editable": true
   },
   "source": [
    "## Pandas Challenge 1\n",
    "Print out the average parallax error in this dataset."
   ]
  },
  {
   "cell_type": "code",
   "execution_count": 16,
   "metadata": {
    "collapsed": false,
    "deletable": true,
    "editable": true
   },
   "outputs": [
    {
     "name": "stdout",
     "output_type": "stream",
     "text": [
      "0.387319030976\n"
     ]
    }
   ],
   "source": [
    "error = df[\"parallax_error\"]\n",
    "print(np.mean(error))"
   ]
  },
  {
   "cell_type": "markdown",
   "metadata": {
    "deletable": true,
    "editable": true
   },
   "source": [
    "## Pandas Challenge 2\n",
    "Print out the \"random index\" for the furthest star in this dataset (Hint: this is the star with the smallest parallax angle.)"
   ]
  },
  {
   "cell_type": "code",
   "execution_count": 25,
   "metadata": {
    "collapsed": false,
    "deletable": true,
    "editable": true
   },
   "outputs": [
    {
     "name": "stdout",
     "output_type": "stream",
     "text": [
      "-4.349788529\n",
      "9765\n"
     ]
    }
   ],
   "source": [
    "print(df[\"parallax\"].min())\n",
    "print(df[\"random_index\"][133819])"
   ]
  },
  {
   "cell_type": "code",
   "execution_count": null,
   "metadata": {
    "collapsed": true
   },
   "outputs": [],
   "source": []
  }
 ],
 "metadata": {
  "kernelspec": {
   "display_name": "Python 3",
   "language": "python",
   "name": "python3"
  },
  "language_info": {
   "codemirror_mode": {
    "name": "ipython",
    "version": 3
   },
   "file_extension": ".py",
   "mimetype": "text/x-python",
   "name": "python",
   "nbconvert_exporter": "python",
   "pygments_lexer": "ipython3",
   "version": "3.5.2"
  }
 },
 "nbformat": 4,
 "nbformat_minor": 2
}
