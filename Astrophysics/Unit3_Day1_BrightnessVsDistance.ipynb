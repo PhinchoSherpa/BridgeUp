{
 "cells": [
  {
   "cell_type": "markdown",
   "metadata": {
    "deletable": true,
    "editable": true
   },
   "source": [
    "# More fun with pandas: Brightness vs Distance\n",
    "\n",
    "This notebook will review the basics of creating a pandas dataframe and introduce you to some more advanced functions. You'll also get to analyze the data you collected in the distance vs brightness lab."
   ]
  },
  {
   "cell_type": "markdown",
   "metadata": {
    "deletable": true,
    "editable": true
   },
   "source": [
    "First, import the pandas and matplotlib libraries."
   ]
  },
  {
   "cell_type": "code",
   "execution_count": 29,
   "metadata": {
    "collapsed": true,
    "deletable": true,
    "editable": true
   },
   "outputs": [],
   "source": [
    "import pandas as pd\n",
    "import matplotlib.pyplot as plt"
   ]
  },
  {
   "cell_type": "markdown",
   "metadata": {
    "deletable": true,
    "editable": true
   },
   "source": [
    "Next, create 6 lists: 3 that contain your distance measurements from each experimental run and 3 that contain your brightness measurements from each experimental run."
   ]
  },
  {
   "cell_type": "code",
   "execution_count": 2,
   "metadata": {
    "collapsed": true,
    "deletable": true,
    "editable": true
   },
   "outputs": [],
   "source": [
    "# Fill in the lists below\n",
    "\n",
    "dist1 = [10,20,30,40,50,60,70,80,90,100]\n",
    "dist2 = [10,20,30,40,50,60,70,80,90,100]\n",
    "dist3 = [10,20,30,40,50,60,70,80,90,100]\n",
    "brt1 = [770,595.6,280,165.2,112.1,81.9,62.5,50,40.3,33.7]\n",
    "brt2 = [770,629.2,290.8,170.2,114.1,82.6,63.1,50.3,40.5,34]\n",
    "brt3 = [770,625.6,289.7,169.7,114.3,82.9,63.1,50.2,40.7,34]"
   ]
  },
  {
   "cell_type": "markdown",
   "metadata": {
    "deletable": true,
    "editable": true
   },
   "source": [
    "Now we'll create a dataframe based on these lists using the pandas .DataFrame() function."
   ]
  },
  {
   "cell_type": "code",
   "execution_count": 3,
   "metadata": {
    "collapsed": false,
    "deletable": true,
    "editable": true
   },
   "outputs": [],
   "source": [
    "df = pd.DataFrame({\"distance 1\": dist1, \"distance 2\": dist2, \"distance 3\": dist3, \n",
    "                   \"brightness 1\": brt1, \"brightness 2\": brt2, \"brightness 3\": brt3})\n",
    "\n",
    "# See those {curly brackets}? This means we're using a dictionary!"
   ]
  },
  {
   "cell_type": "markdown",
   "metadata": {
    "deletable": true,
    "editable": true
   },
   "source": [
    "Look at the first 5 lines of our dataframe using the .head() function"
   ]
  },
  {
   "cell_type": "code",
   "execution_count": 4,
   "metadata": {
    "collapsed": false,
    "deletable": true,
    "editable": true
   },
   "outputs": [
    {
     "data": {
      "text/html": [
       "<div>\n",
       "<style>\n",
       "    .dataframe thead tr:only-child th {\n",
       "        text-align: right;\n",
       "    }\n",
       "\n",
       "    .dataframe thead th {\n",
       "        text-align: left;\n",
       "    }\n",
       "\n",
       "    .dataframe tbody tr th {\n",
       "        vertical-align: top;\n",
       "    }\n",
       "</style>\n",
       "<table border=\"1\" class=\"dataframe\">\n",
       "  <thead>\n",
       "    <tr style=\"text-align: right;\">\n",
       "      <th></th>\n",
       "      <th>brightness 1</th>\n",
       "      <th>brightness 2</th>\n",
       "      <th>brightness 3</th>\n",
       "      <th>distance 1</th>\n",
       "      <th>distance 2</th>\n",
       "      <th>distance 3</th>\n",
       "    </tr>\n",
       "  </thead>\n",
       "  <tbody>\n",
       "    <tr>\n",
       "      <th>0</th>\n",
       "      <td>770.0</td>\n",
       "      <td>770.0</td>\n",
       "      <td>770.0</td>\n",
       "      <td>10</td>\n",
       "      <td>10</td>\n",
       "      <td>10</td>\n",
       "    </tr>\n",
       "    <tr>\n",
       "      <th>1</th>\n",
       "      <td>595.6</td>\n",
       "      <td>629.2</td>\n",
       "      <td>625.6</td>\n",
       "      <td>20</td>\n",
       "      <td>20</td>\n",
       "      <td>20</td>\n",
       "    </tr>\n",
       "    <tr>\n",
       "      <th>2</th>\n",
       "      <td>280.0</td>\n",
       "      <td>290.8</td>\n",
       "      <td>289.7</td>\n",
       "      <td>30</td>\n",
       "      <td>30</td>\n",
       "      <td>30</td>\n",
       "    </tr>\n",
       "    <tr>\n",
       "      <th>3</th>\n",
       "      <td>165.2</td>\n",
       "      <td>170.2</td>\n",
       "      <td>169.7</td>\n",
       "      <td>40</td>\n",
       "      <td>40</td>\n",
       "      <td>40</td>\n",
       "    </tr>\n",
       "    <tr>\n",
       "      <th>4</th>\n",
       "      <td>112.1</td>\n",
       "      <td>114.1</td>\n",
       "      <td>114.3</td>\n",
       "      <td>50</td>\n",
       "      <td>50</td>\n",
       "      <td>50</td>\n",
       "    </tr>\n",
       "  </tbody>\n",
       "</table>\n",
       "</div>"
      ],
      "text/plain": [
       "   brightness 1  brightness 2  brightness 3  distance 1  distance 2  \\\n",
       "0         770.0         770.0         770.0          10          10   \n",
       "1         595.6         629.2         625.6          20          20   \n",
       "2         280.0         290.8         289.7          30          30   \n",
       "3         165.2         170.2         169.7          40          40   \n",
       "4         112.1         114.1         114.3          50          50   \n",
       "\n",
       "   distance 3  \n",
       "0          10  \n",
       "1          20  \n",
       "2          30  \n",
       "3          40  \n",
       "4          50  "
      ]
     },
     "execution_count": 4,
     "metadata": {},
     "output_type": "execute_result"
    }
   ],
   "source": [
    "df.head()"
   ]
  },
  {
   "cell_type": "markdown",
   "metadata": {
    "deletable": true,
    "editable": true
   },
   "source": [
    "You can think of the numbers (0,1,2,3,4,5) as the row numbers in an Excel file. In pandas these are part of the index of the dataframe. They will help us identify and work with particular rows.\n",
    "\n",
    "Notice that the strings we chose in the .DataFrame() function have become the column headers and the items from the lists are the column values. \n",
    "\n",
    "What order are the columns in?"
   ]
  },
  {
   "cell_type": "markdown",
   "metadata": {
    "deletable": true,
    "editable": true
   },
   "source": [
    "## Dataframe columns"
   ]
  },
  {
   "cell_type": "markdown",
   "metadata": {
    "deletable": true,
    "editable": true
   },
   "source": [
    "Let's take a closer look at the columns of our dataframe"
   ]
  },
  {
   "cell_type": "code",
   "execution_count": 5,
   "metadata": {
    "collapsed": false,
    "deletable": true,
    "editable": true
   },
   "outputs": [
    {
     "data": {
      "text/plain": [
       "Index(['brightness 1', 'brightness 2', 'brightness 3', 'distance 1',\n",
       "       'distance 2', 'distance 3'],\n",
       "      dtype='object')"
      ]
     },
     "execution_count": 5,
     "metadata": {},
     "output_type": "execute_result"
    }
   ],
   "source": [
    "df.columns #this command gives us the column names"
   ]
  },
  {
   "cell_type": "code",
   "execution_count": 6,
   "metadata": {
    "collapsed": false,
    "deletable": true,
    "editable": true
   },
   "outputs": [
    {
     "data": {
      "text/plain": [
       "brightness 1    float64\n",
       "brightness 2    float64\n",
       "brightness 3    float64\n",
       "distance 1        int64\n",
       "distance 2        int64\n",
       "distance 3        int64\n",
       "dtype: object"
      ]
     },
     "execution_count": 6,
     "metadata": {},
     "output_type": "execute_result"
    }
   ],
   "source": [
    "df.dtypes #this command tells us what type of values are in each column"
   ]
  },
  {
   "cell_type": "markdown",
   "metadata": {
    "deletable": true,
    "editable": true
   },
   "source": [
    "Assign the \"brightness 1\" column to the variable b1 and the \"distance 1\" column to the variable d1 using the df['column_name'] index format."
   ]
  },
  {
   "cell_type": "code",
   "execution_count": 7,
   "metadata": {
    "collapsed": false,
    "deletable": true,
    "editable": true
   },
   "outputs": [],
   "source": [
    "b1=df[\"brightness 1\"]\n",
    "d1=df[\"distance 1\"]"
   ]
  },
  {
   "cell_type": "markdown",
   "metadata": {
    "deletable": true,
    "editable": true
   },
   "source": [
    "Now, use the .head() function to look at the first 10 values in each column."
   ]
  },
  {
   "cell_type": "code",
   "execution_count": 9,
   "metadata": {
    "collapsed": false,
    "deletable": true,
    "editable": true
   },
   "outputs": [
    {
     "data": {
      "text/plain": [
       "0     10\n",
       "1     20\n",
       "2     30\n",
       "3     40\n",
       "4     50\n",
       "5     60\n",
       "6     70\n",
       "7     80\n",
       "8     90\n",
       "9    100\n",
       "Name: distance 1, dtype: int64"
      ]
     },
     "execution_count": 9,
     "metadata": {},
     "output_type": "execute_result"
    }
   ],
   "source": [
    "b1.head(10)\n",
    "d1.head(10)"
   ]
  },
  {
   "cell_type": "markdown",
   "metadata": {
    "deletable": true,
    "editable": true
   },
   "source": [
    "pandas has some great built in functions that we can use to analyze the data in a column. "
   ]
  },
  {
   "cell_type": "code",
   "execution_count": 10,
   "metadata": {
    "collapsed": false,
    "deletable": true,
    "editable": true
   },
   "outputs": [
    {
     "data": {
      "text/plain": [
       "10"
      ]
     },
     "execution_count": 10,
     "metadata": {},
     "output_type": "execute_result"
    }
   ],
   "source": [
    "b1.count() #this command returns number of values in the selected data"
   ]
  },
  {
   "cell_type": "code",
   "execution_count": 11,
   "metadata": {
    "collapsed": false,
    "deletable": true,
    "editable": true
   },
   "outputs": [
    {
     "data": {
      "text/plain": [
       "2191.3000000000002"
      ]
     },
     "execution_count": 11,
     "metadata": {},
     "output_type": "execute_result"
    }
   ],
   "source": [
    "b1.sum() #this command returns the sum of all values in the selected data"
   ]
  },
  {
   "cell_type": "code",
   "execution_count": 12,
   "metadata": {
    "collapsed": false,
    "deletable": true,
    "editable": true
   },
   "outputs": [
    {
     "data": {
      "text/plain": [
       "770.0"
      ]
     },
     "execution_count": 12,
     "metadata": {},
     "output_type": "execute_result"
    }
   ],
   "source": [
    "b1.max() #this command returns the maximum value of the selected data"
   ]
  },
  {
   "cell_type": "code",
   "execution_count": 13,
   "metadata": {
    "collapsed": false,
    "deletable": true,
    "editable": true
   },
   "outputs": [
    {
     "data": {
      "text/plain": [
       "33.700000000000003"
      ]
     },
     "execution_count": 13,
     "metadata": {},
     "output_type": "execute_result"
    }
   ],
   "source": [
    "b1.min() #this command returns the maximum value of the selected data"
   ]
  },
  {
   "cell_type": "code",
   "execution_count": 14,
   "metadata": {
    "collapsed": false,
    "deletable": true,
    "editable": true
   },
   "outputs": [
    {
     "data": {
      "text/plain": [
       "219.13000000000002"
      ]
     },
     "execution_count": 14,
     "metadata": {},
     "output_type": "execute_result"
    }
   ],
   "source": [
    "b1.mean() #this command returns the mean value of the selected data"
   ]
  },
  {
   "cell_type": "markdown",
   "metadata": {
    "deletable": true,
    "editable": true
   },
   "source": [
    "Try it yourself! Print out the count, sum, max, min, and mean of the first distance column:"
   ]
  },
  {
   "cell_type": "code",
   "execution_count": 17,
   "metadata": {
    "collapsed": false,
    "deletable": true,
    "editable": true
   },
   "outputs": [
    {
     "name": "stdout",
     "output_type": "stream",
     "text": [
      "10\n",
      "550\n",
      "100\n",
      "10\n",
      "55.0\n"
     ]
    }
   ],
   "source": [
    "print(d1.count())\n",
    "print(d1.sum())\n",
    "print(d1.max())\n",
    "print(d1.min())\n",
    "print(d1.mean())"
   ]
  },
  {
   "cell_type": "markdown",
   "metadata": {
    "deletable": true,
    "editable": true
   },
   "source": [
    "## Adding to a dataframe"
   ]
  },
  {
   "cell_type": "markdown",
   "metadata": {
    "deletable": true,
    "editable": true
   },
   "source": [
    "You have three columns for brightness and three columns for distance, but we're interested in the average for each.\n",
    "\n",
    "We can add a new column to our dataframe that contains the average brightness value like this:"
   ]
  },
  {
   "cell_type": "code",
   "execution_count": 18,
   "metadata": {
    "collapsed": false,
    "deletable": true,
    "editable": true
   },
   "outputs": [
    {
     "data": {
      "text/html": [
       "<div>\n",
       "<style>\n",
       "    .dataframe thead tr:only-child th {\n",
       "        text-align: right;\n",
       "    }\n",
       "\n",
       "    .dataframe thead th {\n",
       "        text-align: left;\n",
       "    }\n",
       "\n",
       "    .dataframe tbody tr th {\n",
       "        vertical-align: top;\n",
       "    }\n",
       "</style>\n",
       "<table border=\"1\" class=\"dataframe\">\n",
       "  <thead>\n",
       "    <tr style=\"text-align: right;\">\n",
       "      <th></th>\n",
       "      <th>brightness 1</th>\n",
       "      <th>brightness 2</th>\n",
       "      <th>brightness 3</th>\n",
       "      <th>distance 1</th>\n",
       "      <th>distance 2</th>\n",
       "      <th>distance 3</th>\n",
       "      <th>avg brightness</th>\n",
       "    </tr>\n",
       "  </thead>\n",
       "  <tbody>\n",
       "    <tr>\n",
       "      <th>0</th>\n",
       "      <td>770.0</td>\n",
       "      <td>770.0</td>\n",
       "      <td>770.0</td>\n",
       "      <td>10</td>\n",
       "      <td>10</td>\n",
       "      <td>10</td>\n",
       "      <td>770.000000</td>\n",
       "    </tr>\n",
       "    <tr>\n",
       "      <th>1</th>\n",
       "      <td>595.6</td>\n",
       "      <td>629.2</td>\n",
       "      <td>625.6</td>\n",
       "      <td>20</td>\n",
       "      <td>20</td>\n",
       "      <td>20</td>\n",
       "      <td>616.800000</td>\n",
       "    </tr>\n",
       "    <tr>\n",
       "      <th>2</th>\n",
       "      <td>280.0</td>\n",
       "      <td>290.8</td>\n",
       "      <td>289.7</td>\n",
       "      <td>30</td>\n",
       "      <td>30</td>\n",
       "      <td>30</td>\n",
       "      <td>286.833333</td>\n",
       "    </tr>\n",
       "    <tr>\n",
       "      <th>3</th>\n",
       "      <td>165.2</td>\n",
       "      <td>170.2</td>\n",
       "      <td>169.7</td>\n",
       "      <td>40</td>\n",
       "      <td>40</td>\n",
       "      <td>40</td>\n",
       "      <td>168.366667</td>\n",
       "    </tr>\n",
       "    <tr>\n",
       "      <th>4</th>\n",
       "      <td>112.1</td>\n",
       "      <td>114.1</td>\n",
       "      <td>114.3</td>\n",
       "      <td>50</td>\n",
       "      <td>50</td>\n",
       "      <td>50</td>\n",
       "      <td>113.500000</td>\n",
       "    </tr>\n",
       "  </tbody>\n",
       "</table>\n",
       "</div>"
      ],
      "text/plain": [
       "   brightness 1  brightness 2  brightness 3  distance 1  distance 2  \\\n",
       "0         770.0         770.0         770.0          10          10   \n",
       "1         595.6         629.2         625.6          20          20   \n",
       "2         280.0         290.8         289.7          30          30   \n",
       "3         165.2         170.2         169.7          40          40   \n",
       "4         112.1         114.1         114.3          50          50   \n",
       "\n",
       "   distance 3  avg brightness  \n",
       "0          10      770.000000  \n",
       "1          20      616.800000  \n",
       "2          30      286.833333  \n",
       "3          40      168.366667  \n",
       "4          50      113.500000  "
      ]
     },
     "execution_count": 18,
     "metadata": {},
     "output_type": "execute_result"
    }
   ],
   "source": [
    "df[\"avg brightness\"] = df[[\"brightness 1\", \"brightness 2\", \"brightness 3\"]].mean(axis=1)\n",
    "\n",
    "# Notes:\n",
    "# \"avg brightness\" is the name of the new column\n",
    "# We are specifying which columns to average together using an index in brackets\n",
    "# We're using the pandas .mean() function again!\n",
    "# axis=1 specifies that pandas should find the mean across columns. \n",
    "# (axis=0 would tell pandas to find the mean across rows)\n",
    "df.head(5)"
   ]
  },
  {
   "cell_type": "markdown",
   "metadata": {
    "deletable": true,
    "editable": true
   },
   "source": [
    "What is the data type of the \"avg brightness\" column?"
   ]
  },
  {
   "cell_type": "code",
   "execution_count": 19,
   "metadata": {
    "collapsed": false,
    "deletable": true,
    "editable": true
   },
   "outputs": [
    {
     "data": {
      "text/plain": [
       "dtype('float64')"
      ]
     },
     "execution_count": 19,
     "metadata": {},
     "output_type": "execute_result"
    }
   ],
   "source": [
    "avgB = df[\"avg brightness\"] # We'll assign this column to a variable for convenience\n",
    "\n",
    "avgB.dtypes # Now we'll run the .dytypes command on just this column"
   ]
  },
  {
   "cell_type": "markdown",
   "metadata": {
    "deletable": true,
    "editable": true
   },
   "source": [
    "Let's compare this to the rest of the columns"
   ]
  },
  {
   "cell_type": "code",
   "execution_count": 20,
   "metadata": {
    "collapsed": false,
    "deletable": true,
    "editable": true
   },
   "outputs": [
    {
     "data": {
      "text/plain": [
       "brightness 1      float64\n",
       "brightness 2      float64\n",
       "brightness 3      float64\n",
       "distance 1          int64\n",
       "distance 2          int64\n",
       "distance 3          int64\n",
       "avg brightness    float64\n",
       "dtype: object"
      ]
     },
     "execution_count": 20,
     "metadata": {},
     "output_type": "execute_result"
    }
   ],
   "source": [
    "df.dtypes"
   ]
  },
  {
   "cell_type": "markdown",
   "metadata": {
    "collapsed": true,
    "deletable": true,
    "editable": true
   },
   "source": [
    "Your turn! Create another column called \"avg distance\" that contains the average distance for each step in the experiment."
   ]
  },
  {
   "cell_type": "code",
   "execution_count": 21,
   "metadata": {
    "collapsed": true,
    "deletable": true,
    "editable": true
   },
   "outputs": [],
   "source": [
    "df[\"avg distance\"] = df[[\"distance 1\", \"distance 2\", \"distance 3\"]].mean(axis=1)"
   ]
  },
  {
   "cell_type": "markdown",
   "metadata": {
    "deletable": true,
    "editable": true
   },
   "source": [
    "Now, store this column in a variable called avgD and print out the first 5 values in that column:"
   ]
  },
  {
   "cell_type": "code",
   "execution_count": 22,
   "metadata": {
    "collapsed": false,
    "deletable": true,
    "editable": true
   },
   "outputs": [
    {
     "data": {
      "text/plain": [
       "0    10.0\n",
       "1    20.0\n",
       "2    30.0\n",
       "3    40.0\n",
       "4    50.0\n",
       "Name: avg distance, dtype: float64"
      ]
     },
     "execution_count": 22,
     "metadata": {},
     "output_type": "execute_result"
    }
   ],
   "source": [
    "avgD=df[\"avg distance\"]\n",
    "avgD.head()"
   ]
  },
  {
   "cell_type": "markdown",
   "metadata": {
    "deletable": true,
    "editable": true
   },
   "source": [
    "Print out the max and min of the \"avg brightness\" and \"avg distance\" columns"
   ]
  },
  {
   "cell_type": "code",
   "execution_count": 23,
   "metadata": {
    "collapsed": false,
    "deletable": true,
    "editable": true
   },
   "outputs": [
    {
     "name": "stdout",
     "output_type": "stream",
     "text": [
      "33.9\n",
      "770.0\n",
      "10.0\n",
      "100.0\n"
     ]
    }
   ],
   "source": [
    "# avg brightness\n",
    "print(avgB.min())\n",
    "print(avgB.max())\n",
    "\n",
    "# avg distance\n",
    "print(avgD.min())\n",
    "print(avgD.max())\n"
   ]
  },
  {
   "cell_type": "markdown",
   "metadata": {
    "deletable": true,
    "editable": true
   },
   "source": [
    "## Sorting dataframes"
   ]
  },
  {
   "cell_type": "markdown",
   "metadata": {
    "deletable": true,
    "editable": true
   },
   "source": [
    "Now let's do some more data analysis using pandas. We can use the .sort_values() function to sort our data by average brightness."
   ]
  },
  {
   "cell_type": "code",
   "execution_count": 24,
   "metadata": {
    "collapsed": false,
    "deletable": true,
    "editable": true
   },
   "outputs": [
    {
     "data": {
      "text/html": [
       "<div>\n",
       "<style>\n",
       "    .dataframe thead tr:only-child th {\n",
       "        text-align: right;\n",
       "    }\n",
       "\n",
       "    .dataframe thead th {\n",
       "        text-align: left;\n",
       "    }\n",
       "\n",
       "    .dataframe tbody tr th {\n",
       "        vertical-align: top;\n",
       "    }\n",
       "</style>\n",
       "<table border=\"1\" class=\"dataframe\">\n",
       "  <thead>\n",
       "    <tr style=\"text-align: right;\">\n",
       "      <th></th>\n",
       "      <th>brightness 1</th>\n",
       "      <th>brightness 2</th>\n",
       "      <th>brightness 3</th>\n",
       "      <th>distance 1</th>\n",
       "      <th>distance 2</th>\n",
       "      <th>distance 3</th>\n",
       "      <th>avg brightness</th>\n",
       "      <th>avg distance</th>\n",
       "    </tr>\n",
       "  </thead>\n",
       "  <tbody>\n",
       "    <tr>\n",
       "      <th>0</th>\n",
       "      <td>770.0</td>\n",
       "      <td>770.0</td>\n",
       "      <td>770.0</td>\n",
       "      <td>10</td>\n",
       "      <td>10</td>\n",
       "      <td>10</td>\n",
       "      <td>770.000000</td>\n",
       "      <td>10.0</td>\n",
       "    </tr>\n",
       "    <tr>\n",
       "      <th>1</th>\n",
       "      <td>595.6</td>\n",
       "      <td>629.2</td>\n",
       "      <td>625.6</td>\n",
       "      <td>20</td>\n",
       "      <td>20</td>\n",
       "      <td>20</td>\n",
       "      <td>616.800000</td>\n",
       "      <td>20.0</td>\n",
       "    </tr>\n",
       "    <tr>\n",
       "      <th>2</th>\n",
       "      <td>280.0</td>\n",
       "      <td>290.8</td>\n",
       "      <td>289.7</td>\n",
       "      <td>30</td>\n",
       "      <td>30</td>\n",
       "      <td>30</td>\n",
       "      <td>286.833333</td>\n",
       "      <td>30.0</td>\n",
       "    </tr>\n",
       "    <tr>\n",
       "      <th>3</th>\n",
       "      <td>165.2</td>\n",
       "      <td>170.2</td>\n",
       "      <td>169.7</td>\n",
       "      <td>40</td>\n",
       "      <td>40</td>\n",
       "      <td>40</td>\n",
       "      <td>168.366667</td>\n",
       "      <td>40.0</td>\n",
       "    </tr>\n",
       "    <tr>\n",
       "      <th>4</th>\n",
       "      <td>112.1</td>\n",
       "      <td>114.1</td>\n",
       "      <td>114.3</td>\n",
       "      <td>50</td>\n",
       "      <td>50</td>\n",
       "      <td>50</td>\n",
       "      <td>113.500000</td>\n",
       "      <td>50.0</td>\n",
       "    </tr>\n",
       "    <tr>\n",
       "      <th>5</th>\n",
       "      <td>81.9</td>\n",
       "      <td>82.6</td>\n",
       "      <td>82.9</td>\n",
       "      <td>60</td>\n",
       "      <td>60</td>\n",
       "      <td>60</td>\n",
       "      <td>82.466667</td>\n",
       "      <td>60.0</td>\n",
       "    </tr>\n",
       "    <tr>\n",
       "      <th>6</th>\n",
       "      <td>62.5</td>\n",
       "      <td>63.1</td>\n",
       "      <td>63.1</td>\n",
       "      <td>70</td>\n",
       "      <td>70</td>\n",
       "      <td>70</td>\n",
       "      <td>62.900000</td>\n",
       "      <td>70.0</td>\n",
       "    </tr>\n",
       "    <tr>\n",
       "      <th>7</th>\n",
       "      <td>50.0</td>\n",
       "      <td>50.3</td>\n",
       "      <td>50.2</td>\n",
       "      <td>80</td>\n",
       "      <td>80</td>\n",
       "      <td>80</td>\n",
       "      <td>50.166667</td>\n",
       "      <td>80.0</td>\n",
       "    </tr>\n",
       "    <tr>\n",
       "      <th>8</th>\n",
       "      <td>40.3</td>\n",
       "      <td>40.5</td>\n",
       "      <td>40.7</td>\n",
       "      <td>90</td>\n",
       "      <td>90</td>\n",
       "      <td>90</td>\n",
       "      <td>40.500000</td>\n",
       "      <td>90.0</td>\n",
       "    </tr>\n",
       "    <tr>\n",
       "      <th>9</th>\n",
       "      <td>33.7</td>\n",
       "      <td>34.0</td>\n",
       "      <td>34.0</td>\n",
       "      <td>100</td>\n",
       "      <td>100</td>\n",
       "      <td>100</td>\n",
       "      <td>33.900000</td>\n",
       "      <td>100.0</td>\n",
       "    </tr>\n",
       "  </tbody>\n",
       "</table>\n",
       "</div>"
      ],
      "text/plain": [
       "   brightness 1  brightness 2  brightness 3  distance 1  distance 2  \\\n",
       "0         770.0         770.0         770.0          10          10   \n",
       "1         595.6         629.2         625.6          20          20   \n",
       "2         280.0         290.8         289.7          30          30   \n",
       "3         165.2         170.2         169.7          40          40   \n",
       "4         112.1         114.1         114.3          50          50   \n",
       "5          81.9          82.6          82.9          60          60   \n",
       "6          62.5          63.1          63.1          70          70   \n",
       "7          50.0          50.3          50.2          80          80   \n",
       "8          40.3          40.5          40.7          90          90   \n",
       "9          33.7          34.0          34.0         100         100   \n",
       "\n",
       "   distance 3  avg brightness  avg distance  \n",
       "0          10      770.000000          10.0  \n",
       "1          20      616.800000          20.0  \n",
       "2          30      286.833333          30.0  \n",
       "3          40      168.366667          40.0  \n",
       "4          50      113.500000          50.0  \n",
       "5          60       82.466667          60.0  \n",
       "6          70       62.900000          70.0  \n",
       "7          80       50.166667          80.0  \n",
       "8          90       40.500000          90.0  \n",
       "9         100       33.900000         100.0  "
      ]
     },
     "execution_count": 24,
     "metadata": {},
     "output_type": "execute_result"
    }
   ],
   "source": [
    "df_sorted = df.sort_values([\"avg distance\"]) # specify the column that you want to use for the sort using an index\n",
    "df_sorted.head(10) # Look at the first 10 lines of the sorted file"
   ]
  },
  {
   "cell_type": "markdown",
   "metadata": {
    "deletable": true,
    "editable": true
   },
   "source": [
    "Look at the distances in this sorted dataframe. Are the distances associated with the lowest brightness values large or small?\n",
    "\n",
    "What if we want to look at the highest brightness values? We can sort the data in reverse by adding another argument to the sort_values() function."
   ]
  },
  {
   "cell_type": "code",
   "execution_count": 25,
   "metadata": {
    "collapsed": false,
    "deletable": true,
    "editable": true
   },
   "outputs": [
    {
     "data": {
      "text/html": [
       "<div>\n",
       "<style>\n",
       "    .dataframe thead tr:only-child th {\n",
       "        text-align: right;\n",
       "    }\n",
       "\n",
       "    .dataframe thead th {\n",
       "        text-align: left;\n",
       "    }\n",
       "\n",
       "    .dataframe tbody tr th {\n",
       "        vertical-align: top;\n",
       "    }\n",
       "</style>\n",
       "<table border=\"1\" class=\"dataframe\">\n",
       "  <thead>\n",
       "    <tr style=\"text-align: right;\">\n",
       "      <th></th>\n",
       "      <th>brightness 1</th>\n",
       "      <th>brightness 2</th>\n",
       "      <th>brightness 3</th>\n",
       "      <th>distance 1</th>\n",
       "      <th>distance 2</th>\n",
       "      <th>distance 3</th>\n",
       "      <th>avg brightness</th>\n",
       "      <th>avg distance</th>\n",
       "    </tr>\n",
       "  </thead>\n",
       "  <tbody>\n",
       "    <tr>\n",
       "      <th>9</th>\n",
       "      <td>33.7</td>\n",
       "      <td>34.0</td>\n",
       "      <td>34.0</td>\n",
       "      <td>100</td>\n",
       "      <td>100</td>\n",
       "      <td>100</td>\n",
       "      <td>33.900000</td>\n",
       "      <td>100.0</td>\n",
       "    </tr>\n",
       "    <tr>\n",
       "      <th>8</th>\n",
       "      <td>40.3</td>\n",
       "      <td>40.5</td>\n",
       "      <td>40.7</td>\n",
       "      <td>90</td>\n",
       "      <td>90</td>\n",
       "      <td>90</td>\n",
       "      <td>40.500000</td>\n",
       "      <td>90.0</td>\n",
       "    </tr>\n",
       "    <tr>\n",
       "      <th>7</th>\n",
       "      <td>50.0</td>\n",
       "      <td>50.3</td>\n",
       "      <td>50.2</td>\n",
       "      <td>80</td>\n",
       "      <td>80</td>\n",
       "      <td>80</td>\n",
       "      <td>50.166667</td>\n",
       "      <td>80.0</td>\n",
       "    </tr>\n",
       "    <tr>\n",
       "      <th>6</th>\n",
       "      <td>62.5</td>\n",
       "      <td>63.1</td>\n",
       "      <td>63.1</td>\n",
       "      <td>70</td>\n",
       "      <td>70</td>\n",
       "      <td>70</td>\n",
       "      <td>62.900000</td>\n",
       "      <td>70.0</td>\n",
       "    </tr>\n",
       "    <tr>\n",
       "      <th>5</th>\n",
       "      <td>81.9</td>\n",
       "      <td>82.6</td>\n",
       "      <td>82.9</td>\n",
       "      <td>60</td>\n",
       "      <td>60</td>\n",
       "      <td>60</td>\n",
       "      <td>82.466667</td>\n",
       "      <td>60.0</td>\n",
       "    </tr>\n",
       "    <tr>\n",
       "      <th>4</th>\n",
       "      <td>112.1</td>\n",
       "      <td>114.1</td>\n",
       "      <td>114.3</td>\n",
       "      <td>50</td>\n",
       "      <td>50</td>\n",
       "      <td>50</td>\n",
       "      <td>113.500000</td>\n",
       "      <td>50.0</td>\n",
       "    </tr>\n",
       "    <tr>\n",
       "      <th>3</th>\n",
       "      <td>165.2</td>\n",
       "      <td>170.2</td>\n",
       "      <td>169.7</td>\n",
       "      <td>40</td>\n",
       "      <td>40</td>\n",
       "      <td>40</td>\n",
       "      <td>168.366667</td>\n",
       "      <td>40.0</td>\n",
       "    </tr>\n",
       "    <tr>\n",
       "      <th>2</th>\n",
       "      <td>280.0</td>\n",
       "      <td>290.8</td>\n",
       "      <td>289.7</td>\n",
       "      <td>30</td>\n",
       "      <td>30</td>\n",
       "      <td>30</td>\n",
       "      <td>286.833333</td>\n",
       "      <td>30.0</td>\n",
       "    </tr>\n",
       "    <tr>\n",
       "      <th>1</th>\n",
       "      <td>595.6</td>\n",
       "      <td>629.2</td>\n",
       "      <td>625.6</td>\n",
       "      <td>20</td>\n",
       "      <td>20</td>\n",
       "      <td>20</td>\n",
       "      <td>616.800000</td>\n",
       "      <td>20.0</td>\n",
       "    </tr>\n",
       "    <tr>\n",
       "      <th>0</th>\n",
       "      <td>770.0</td>\n",
       "      <td>770.0</td>\n",
       "      <td>770.0</td>\n",
       "      <td>10</td>\n",
       "      <td>10</td>\n",
       "      <td>10</td>\n",
       "      <td>770.000000</td>\n",
       "      <td>10.0</td>\n",
       "    </tr>\n",
       "  </tbody>\n",
       "</table>\n",
       "</div>"
      ],
      "text/plain": [
       "   brightness 1  brightness 2  brightness 3  distance 1  distance 2  \\\n",
       "9          33.7          34.0          34.0         100         100   \n",
       "8          40.3          40.5          40.7          90          90   \n",
       "7          50.0          50.3          50.2          80          80   \n",
       "6          62.5          63.1          63.1          70          70   \n",
       "5          81.9          82.6          82.9          60          60   \n",
       "4         112.1         114.1         114.3          50          50   \n",
       "3         165.2         170.2         169.7          40          40   \n",
       "2         280.0         290.8         289.7          30          30   \n",
       "1         595.6         629.2         625.6          20          20   \n",
       "0         770.0         770.0         770.0          10          10   \n",
       "\n",
       "   distance 3  avg brightness  avg distance  \n",
       "9         100       33.900000         100.0  \n",
       "8          90       40.500000          90.0  \n",
       "7          80       50.166667          80.0  \n",
       "6          70       62.900000          70.0  \n",
       "5          60       82.466667          60.0  \n",
       "4          50      113.500000          50.0  \n",
       "3          40      168.366667          40.0  \n",
       "2          30      286.833333          30.0  \n",
       "1          20      616.800000          20.0  \n",
       "0          10      770.000000          10.0  "
      ]
     },
     "execution_count": 25,
     "metadata": {},
     "output_type": "execute_result"
    }
   ],
   "source": [
    "# set the ascending argument to False to sort values from highest to lowest\n",
    "df_sorted = df.sort_values([\"avg distance\"], ascending = False)\n",
    "df_sorted.head(10)"
   ]
  },
  {
   "cell_type": "markdown",
   "metadata": {
    "deletable": true,
    "editable": true
   },
   "source": [
    "Are the distances associated with the largest brightness values large or small?"
   ]
  },
  {
   "cell_type": "markdown",
   "metadata": {
    "deletable": true,
    "editable": true
   },
   "source": [
    "## Saving a dataframe as a csv file"
   ]
  },
  {
   "cell_type": "markdown",
   "metadata": {
    "deletable": true,
    "editable": true
   },
   "source": [
    "You can export your dataframe to your computer as a csv using the .to_csv() function."
   ]
  },
  {
   "cell_type": "code",
   "execution_count": 26,
   "metadata": {
    "collapsed": true,
    "deletable": true,
    "editable": true
   },
   "outputs": [],
   "source": [
    "df.to_csv(\"lab_averages.csv\", index=False) # index=False removes the index column (1, 2, 3...) from our dataset"
   ]
  },
  {
   "cell_type": "markdown",
   "metadata": {
    "deletable": true,
    "editable": true
   },
   "source": [
    "## Graphing data from a dataframe"
   ]
  },
  {
   "cell_type": "markdown",
   "metadata": {
    "deletable": true,
    "editable": true
   },
   "source": [
    "Create a pyplot line graph using the average distance as the x data and the average brightness as the y data. \n",
    "\n",
    "Try creating markers to show each data point."
   ]
  },
  {
   "cell_type": "code",
   "execution_count": 31,
   "metadata": {
    "collapsed": false,
    "deletable": true,
    "editable": true
   },
   "outputs": [
    {
     "data": {
      "image/png": "[encoded data removed]",
      "text/plain": [
       "<matplotlib.figure.Figure at 0x11d9fb630>"
      ]
     },
     "metadata": {},
     "output_type": "display_data"
    }
   ],
   "source": [
    "plt.plot(avgD,avgB , color = \"black\", marker = \"x\")\n",
    "plt.title(\"Brightness Vs Distance\")\n",
    "plt.xlabel(\"Distance\")\n",
    "plt.ylabel(\"Brightness\")\n",
    "\n",
    "plt.show()"
   ]
  },
  {
   "cell_type": "code",
   "execution_count": null,
   "metadata": {
    "collapsed": true
   },
   "outputs": [],
   "source": []
  }
 ],
 "metadata": {
  "kernelspec": {
   "display_name": "Python 3",
   "language": "python",
   "name": "python3"
  },
  "language_info": {
   "codemirror_mode": {
    "name": "ipython",
    "version": 3
   },
   "file_extension": ".py",
   "mimetype": "text/x-python",
   "name": "python",
   "nbconvert_exporter": "python",
   "pygments_lexer": "ipython3",
   "version": "3.5.2"
  }
 },
 "nbformat": 4,
 "nbformat_minor": 2
}
