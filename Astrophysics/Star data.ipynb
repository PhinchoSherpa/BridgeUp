{
 "cells": [
  {
   "cell_type": "code",
   "execution_count": 1,
   "metadata": {
    "collapsed": true
   },
   "outputs": [],
   "source": [
    "import pandas as pd\n",
    "import matplotlib.pyplot as plt\n",
    "import csv"
   ]
  },
  {
   "cell_type": "code",
   "execution_count": 4,
   "metadata": {
    "collapsed": false
   },
   "outputs": [],
   "source": [
    "df=pd.read_csv(\"TGAS_data.csv\")"
   ]
  },
  {
   "cell_type": "code",
   "execution_count": 5,
   "metadata": {
    "collapsed": false
   },
   "outputs": [
    {
     "data": {
      "text/html": [
       "<div>\n",
       "<style>\n",
       "    .dataframe thead tr:only-child th {\n",
       "        text-align: right;\n",
       "    }\n",
       "\n",
       "    .dataframe thead th {\n",
       "        text-align: left;\n",
       "    }\n",
       "\n",
       "    .dataframe tbody tr th {\n",
       "        vertical-align: top;\n",
       "    }\n",
       "</style>\n",
       "<table border=\"1\" class=\"dataframe\">\n",
       "  <thead>\n",
       "    <tr style=\"text-align: right;\">\n",
       "      <th></th>\n",
       "      <th>source_id</th>\n",
       "      <th>random_index</th>\n",
       "      <th>ref_epoch</th>\n",
       "      <th>ra</th>\n",
       "      <th>ra_error</th>\n",
       "      <th>dec</th>\n",
       "      <th>dec_error</th>\n",
       "      <th>parallax</th>\n",
       "      <th>parallax_error</th>\n",
       "      <th>pmra</th>\n",
       "      <th>pmra_error</th>\n",
       "    </tr>\n",
       "  </thead>\n",
       "  <tbody>\n",
       "    <tr>\n",
       "      <th>0</th>\n",
       "      <td>7.627860e+12</td>\n",
       "      <td>243619</td>\n",
       "      <td>2015</td>\n",
       "      <td>45.034330</td>\n",
       "      <td>0.305989</td>\n",
       "      <td>0.235392</td>\n",
       "      <td>0.218802</td>\n",
       "      <td>6.352951</td>\n",
       "      <td>0.307910</td>\n",
       "      <td>43.752313</td>\n",
       "      <td>0.070542</td>\n",
       "    </tr>\n",
       "    <tr>\n",
       "      <th>1</th>\n",
       "      <td>9.277130e+12</td>\n",
       "      <td>487238</td>\n",
       "      <td>2015</td>\n",
       "      <td>45.165007</td>\n",
       "      <td>2.583882</td>\n",
       "      <td>0.200068</td>\n",
       "      <td>1.197789</td>\n",
       "      <td>3.900329</td>\n",
       "      <td>0.323488</td>\n",
       "      <td>10.036263</td>\n",
       "      <td>4.611414</td>\n",
       "    </tr>\n",
       "    <tr>\n",
       "      <th>2</th>\n",
       "      <td>1.329720e+13</td>\n",
       "      <td>1948952</td>\n",
       "      <td>2015</td>\n",
       "      <td>45.086155</td>\n",
       "      <td>0.213836</td>\n",
       "      <td>0.248825</td>\n",
       "      <td>0.180326</td>\n",
       "      <td>3.155313</td>\n",
       "      <td>0.273484</td>\n",
       "      <td>2.932284</td>\n",
       "      <td>1.908644</td>\n",
       "    </tr>\n",
       "    <tr>\n",
       "      <th>3</th>\n",
       "      <td>1.346900e+13</td>\n",
       "      <td>102321</td>\n",
       "      <td>2015</td>\n",
       "      <td>45.066542</td>\n",
       "      <td>0.276039</td>\n",
       "      <td>0.248211</td>\n",
       "      <td>0.200958</td>\n",
       "      <td>2.292367</td>\n",
       "      <td>0.280972</td>\n",
       "      <td>3.661982</td>\n",
       "      <td>2.065052</td>\n",
       "    </tr>\n",
       "    <tr>\n",
       "      <th>4</th>\n",
       "      <td>1.573680e+13</td>\n",
       "      <td>409284</td>\n",
       "      <td>2015</td>\n",
       "      <td>45.136038</td>\n",
       "      <td>0.170697</td>\n",
       "      <td>0.335044</td>\n",
       "      <td>0.170130</td>\n",
       "      <td>1.582077</td>\n",
       "      <td>0.261539</td>\n",
       "      <td>0.340802</td>\n",
       "      <td>1.220476</td>\n",
       "    </tr>\n",
       "  </tbody>\n",
       "</table>\n",
       "</div>"
      ],
      "text/plain": [
       "      source_id  random_index  ref_epoch         ra  ra_error       dec  \\\n",
       "0  7.627860e+12        243619       2015  45.034330  0.305989  0.235392   \n",
       "1  9.277130e+12        487238       2015  45.165007  2.583882  0.200068   \n",
       "2  1.329720e+13       1948952       2015  45.086155  0.213836  0.248825   \n",
       "3  1.346900e+13        102321       2015  45.066542  0.276039  0.248211   \n",
       "4  1.573680e+13        409284       2015  45.136038  0.170697  0.335044   \n",
       "\n",
       "   dec_error  parallax  parallax_error       pmra  pmra_error  \n",
       "0   0.218802  6.352951        0.307910  43.752313    0.070542  \n",
       "1   1.197789  3.900329        0.323488  10.036263    4.611414  \n",
       "2   0.180326  3.155313        0.273484   2.932284    1.908644  \n",
       "3   0.200958  2.292367        0.280972   3.661982    2.065052  \n",
       "4   0.170130  1.582077        0.261539   0.340802    1.220476  "
      ]
     },
     "execution_count": 5,
     "metadata": {},
     "output_type": "execute_result"
    }
   ],
   "source": [
    "df.head()"
   ]
  },
  {
   "cell_type": "code",
   "execution_count": 7,
   "metadata": {
    "collapsed": false
   },
   "outputs": [],
   "source": [
    "para=df[\"parallax\"]"
   ]
  },
  {
   "cell_type": "code",
   "execution_count": 8,
   "metadata": {
    "collapsed": false
   },
   "outputs": [
    {
     "name": "stdout",
     "output_type": "stream",
     "text": [
      "-4.349788529\n",
      "280.740075\n"
     ]
    }
   ],
   "source": [
    "print(para.min())\n",
    "print(para.max())"
   ]
  },
  {
   "cell_type": "code",
   "execution_count": null,
   "metadata": {
    "collapsed": true
   },
   "outputs": [],
   "source": []
  }
 ],
 "metadata": {
  "kernelspec": {
   "display_name": "Python 3",
   "language": "python",
   "name": "python3"
  },
  "language_info": {
   "codemirror_mode": {
    "name": "ipython",
    "version": 3
   },
   "file_extension": ".py",
   "mimetype": "text/x-python",
   "name": "python",
   "nbconvert_exporter": "python",
   "pygments_lexer": "ipython3",
   "version": "3.5.2"
  }
 },
 "nbformat": 4,
 "nbformat_minor": 2
}
