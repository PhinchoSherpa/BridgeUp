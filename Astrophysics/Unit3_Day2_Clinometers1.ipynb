{
 "cells": [
  {
   "cell_type": "markdown",
   "metadata": {
    "deletable": true,
    "editable": true
   },
   "source": [
    "# Clinometer activity\n",
    "\n",
    "Use this notebook to calculate the height of the Hayden Planetarium based on your measurements of distance and clinometer angle. "
   ]
  },
  {
   "cell_type": "markdown",
   "metadata": {
    "deletable": true,
    "editable": true
   },
   "source": [
    "We will use the numpy library for this activity. It includes lots of functions that make mathematical calculations easier."
   ]
  },
  {
   "cell_type": "code",
   "execution_count": 1,
   "metadata": {
    "collapsed": true,
    "deletable": true,
    "editable": true
   },
   "outputs": [],
   "source": [
    "import numpy as np"
   ]
  },
  {
   "cell_type": "markdown",
   "metadata": {
    "deletable": true,
    "editable": true
   },
   "source": [
    "Next, assign the clinometer angle you measured to the variable \"degrees\" below:"
   ]
  },
  {
   "cell_type": "code",
   "execution_count": 2,
   "metadata": {
    "collapsed": false,
    "deletable": true,
    "editable": true
   },
   "outputs": [],
   "source": [
    "# Assign the angle in degrees to this variable\n",
    "degrees = 27"
   ]
  },
  {
   "cell_type": "markdown",
   "metadata": {
    "deletable": true,
    "editable": true
   },
   "source": [
    "We can use the numpy function np.deg2rad() to convert our angle from degrees to radians. \n",
    "\n",
    "Fill in the function with the degrees variable and run this code to print out theta."
   ]
  },
  {
   "cell_type": "code",
   "execution_count": 4,
   "metadata": {
    "collapsed": false,
    "deletable": true,
    "editable": true
   },
   "outputs": [
    {
     "name": "stdout",
     "output_type": "stream",
     "text": [
      "0.471238898038\n"
     ]
    }
   ],
   "source": [
    "# The np.deg2rad() function takes an angle in degrees for its argument and returns that angle in radians.\n",
    "\n",
    "theta = np.deg2rad(27) # Fill in the function with the correct argument\n",
    "print(theta)"
   ]
  },
  {
   "cell_type": "markdown",
   "metadata": {
    "deletable": true,
    "editable": true
   },
   "source": [
    "#### Now it's time to find the height of the planetarium!\n",
    "\n",
    "First, fill in the distance from the observer to the planetarium base (adjacent side):"
   ]
  },
  {
   "cell_type": "code",
   "execution_count": 5,
   "metadata": {
    "collapsed": true,
    "deletable": true,
    "editable": true
   },
   "outputs": [],
   "source": [
    "# Assign the distance in meters to this variable\n",
    "adjacent = 52.75"
   ]
  },
  {
   "cell_type": "markdown",
   "metadata": {
    "deletable": true,
    "editable": true
   },
   "source": [
    "Since we know theta and the length of the adjacent side of our triangle, we can use trigonometry to calculate the opposite side.\n",
    "\n",
    "Remember that tan(theta) = opposite/adjacent\n",
    "\n",
    "We will use the numpy function np.tan() in this calculation:"
   ]
  },
  {
   "cell_type": "code",
   "execution_count": 6,
   "metadata": {
    "collapsed": false,
    "deletable": true,
    "editable": true
   },
   "outputs": [
    {
     "name": "stdout",
     "output_type": "stream",
     "text": [
      "26.8774674608\n"
     ]
    }
   ],
   "source": [
    "opposite = adjacent * np.tan(theta)\n",
    "print(opposite)"
   ]
  },
  {
   "cell_type": "markdown",
   "metadata": {
    "deletable": true,
    "editable": true
   },
   "source": [
    "But there's something missing! You need to add your own height to the length of the opposite side to get the height of the planetarium. \n",
    "\n",
    "Don't know your height in meters? You can use the function below:"
   ]
  },
  {
   "cell_type": "code",
   "execution_count": 7,
   "metadata": {
    "collapsed": false,
    "deletable": true,
    "editable": true
   },
   "outputs": [],
   "source": [
    "def heightConverter(feet, inches):\n",
    "    f2i = feet * 12\n",
    "    total_inches = f2i + inches\n",
    "    meters = total_inches / 39.3701\n",
    "    print(meters)\n",
    "\n",
    "# Call the heightConverter function here if you need to use it\n"
   ]
  },
  {
   "cell_type": "code",
   "execution_count": 10,
   "metadata": {
    "collapsed": true,
    "deletable": true,
    "editable": true
   },
   "outputs": [],
   "source": [
    "# Assign your height in meters to this variable\n",
    "my_height = 1.48"
   ]
  },
  {
   "cell_type": "code",
   "execution_count": 11,
   "metadata": {
    "collapsed": false,
    "deletable": true,
    "editable": true
   },
   "outputs": [
    {
     "name": "stdout",
     "output_type": "stream",
     "text": [
      "The Hayden Planetarium is 28.3574674608 meters tall!\n"
     ]
    }
   ],
   "source": [
    "# Add your height to the length of the opposite side of the triangle to get the height of the planetarium\n",
    "print(\"The Hayden Planetarium is\", my_height + opposite, \"meters tall!\")"
   ]
  },
  {
   "cell_type": "markdown",
   "metadata": {
    "deletable": true,
    "editable": true
   },
   "source": [
    "### Congratulations! \n",
    "\n",
    "Now what if you wanted to repeat these calculations for the entire class and find the average building height? How would you do that?\n",
    "\n",
    "If you were thinking pandas... you're right! Let's move on to part two of the activity."
   ]
  }
 ],
 "metadata": {
  "kernelspec": {
   "display_name": "Python 3",
   "language": "python",
   "name": "python3"
  },
  "language_info": {
   "codemirror_mode": {
    "name": "ipython",
    "version": 3
   },
   "file_extension": ".py",
   "mimetype": "text/x-python",
   "name": "python",
   "nbconvert_exporter": "python",
   "pygments_lexer": "ipython3",
   "version": "3.5.2"
  }
 },
 "nbformat": 4,
 "nbformat_minor": 2
}
