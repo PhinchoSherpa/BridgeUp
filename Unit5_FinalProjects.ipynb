{
 "cells": [
  {
   "cell_type": "markdown",
   "metadata": {
    "deletable": true,
    "editable": true
   },
   "source": [
    "# Final Projects: Calculating evolutionary distance\n",
    "\n",
    "In this notebook you will compare the amino acid sequence of hemoglobin alpha from 3 different species to find out which two are most closely related."
   ]
  },
  {
   "cell_type": "markdown",
   "metadata": {
    "deletable": true,
    "editable": true
   },
   "source": [
    "You'll need to copy and paste the function from last class that finds the number of differences in two sequences:"
   ]
  },
  {
   "cell_type": "markdown",
   "metadata": {
    "deletable": true,
    "editable": true
   },
   "source": [
    "In order to compare the different amino acid sequences, we need to open the files and read the sequences into new variables:"
   ]
  },
  {
   "cell_type": "code",
   "execution_count": 1,
   "metadata": {
    "collapsed": true,
    "deletable": true,
    "editable": true
   },
   "outputs": [],
   "source": [
    "chicken=open(\"2_Chicken_CSNK2B_DNA.txt\").read()\n",
    "turtle=open(\"2_BoxTurtle_CSNK2B_DNA.txt\").read()\n",
    "anole=open(\"2_GreenAnole_CSNK2B_DNA.txt\").read()"
   ]
  },
  {
   "cell_type": "markdown",
   "metadata": {
    "deletable": true,
    "editable": true
   },
   "source": [
    "Decide as a group whether you want to compare DNA or protein sequences for your species. What are the pros and cons of each?"
   ]
  },
  {
   "cell_type": "code",
   "execution_count": 2,
   "metadata": {
    "collapsed": false,
    "deletable": true,
    "editable": true
   },
   "outputs": [],
   "source": [
    "# If you choose to use the transcribe and translate functions, you can copy and paste them here\n",
    "def compare(B1,B2):\n",
    "    same=[]\n",
    "    different=[]\n",
    "    for i in range(0,len(B1)):\n",
    "        if B1[i] == B2[i]:\n",
    "            same.append(B1[i])\n",
    "        else:\n",
    "            different.append([i])\n",
    "    return len(different)"
   ]
  },
  {
   "cell_type": "markdown",
   "metadata": {
    "deletable": true,
    "editable": true
   },
   "source": [
    "Now call the number of differences function 3 times to compare all three of your species' sequences."
   ]
  },
  {
   "cell_type": "code",
   "execution_count": 3,
   "metadata": {
    "collapsed": false,
    "deletable": true,
    "editable": true
   },
   "outputs": [
    {
     "name": "stdout",
     "output_type": "stream",
     "text": [
      "226\n",
      "128\n",
      "134\n"
     ]
    }
   ],
   "source": [
    "print(compare(chicken,anole))\n",
    "print(compare(turtle,chicken))\n",
    "print(compare(turtle,anole))"
   ]
  },
  {
   "cell_type": "markdown",
   "metadata": {
    "deletable": true,
    "editable": true
   },
   "source": [
    "What can you conclude based on the number of differences between each pair of species?\n",
    "\n",
    "Next, create a function that returns the percent difference between sequences and call it for your three comparisons:"
   ]
  },
  {
   "cell_type": "code",
   "execution_count": 4,
   "metadata": {
    "collapsed": true,
    "deletable": true,
    "editable": true
   },
   "outputs": [],
   "source": [
    "#The turtle and chicken have least differences in their DNA.\n",
    "#The chicken and lizard have most differences in their DNA."
   ]
  },
  {
   "cell_type": "code",
   "execution_count": 17,
   "metadata": {
    "collapsed": false,
    "deletable": true,
    "editable": true
   },
   "outputs": [],
   "source": [
    "def diff_percent(file1,file2):\n",
    "    same=[]\n",
    "    different=[]\n",
    "    every=[]\n",
    "    for i in range(0,len(file2)):\n",
    "        if file1[i]==file2[i]:\n",
    "            same.append(file1[i])\n",
    "            every.append(i)\n",
    "        else:\n",
    "            different.append([i])\n",
    "            every.append([i])\n",
    "    part=len(different)\n",
    "    whole=len(every)\n",
    "    percent=(100*float(part)/float(whole))\n",
    "    return float(percent)"
   ]
  },
  {
   "cell_type": "code",
   "execution_count": 19,
   "metadata": {
    "collapsed": false,
    "deletable": true,
    "editable": true
   },
   "outputs": [
    {
     "name": "stdout",
     "output_type": "stream",
     "text": [
      "28.974358974358974\n",
      "19.08831908831909\n",
      "18.233618233618234\n"
     ]
    }
   ],
   "source": [
    "print(diff_percent(chicken,anole))\n",
    "print(diff_percent(anole,turtle))\n",
    "print(diff_percent(chicken,turtle))"
   ]
  },
  {
   "cell_type": "markdown",
   "metadata": {
    "deletable": true,
    "editable": true
   },
   "source": [
    "Let's visualize these results! Choose a graph type that you think will communicate your conclusions effectively and create it using matplotlib:"
   ]
  },
  {
   "cell_type": "code",
   "execution_count": 26,
   "metadata": {
    "collapsed": false,
    "deletable": true,
    "editable": true
   },
   "outputs": [],
   "source": [
    "import matplotlib.pyplot as plt"
   ]
  },
  {
   "cell_type": "code",
   "execution_count": 27,
   "metadata": {
    "collapsed": true
   },
   "outputs": [],
   "source": [
    "types=[diff_percent(chicken,anole),diff_percent(anole,turtle),diff_percent(chicken,turtle)]\n",
    "types_num=[1,2,3]"
   ]
  },
  {
   "cell_type": "code",
   "execution_count": 44,
   "metadata": {
    "collapsed": false
   },
   "outputs": [
    {
     "data": {
      "image/png": "[encoded data removed]",
      "text/plain": [
       "<matplotlib.figure.Figure at 0x11ccf85f8>"
      ]
     },
     "metadata": {},
     "output_type": "display_data"
    }
   ],
   "source": [
    "plt.bar(1,diff_percent(chicken,anole))\n",
    "plt.bar(2,diff_percent(anole,turtle))\n",
    "plt.bar(3,diff_percent(chicken,turtle))\n",
    "plt.title(\"Percentage Difference of three Species\")\n",
    "plt.ylabel(\"Percent Difference\")\n",
    "plt.xticks([1,2,3],(\"Chicken and Lizard\",\"Lizard and Turtle\",\"Chicken and Turtle\"))\n",
    "plt.show()"
   ]
  },
  {
   "cell_type": "markdown",
   "metadata": {
    "deletable": true,
    "editable": true
   },
   "source": [
    "## Coding Challenge\n",
    "If you finish your project and want to try a challenge, come up with a hypothesis about which of the following species are most closely related to humans (carp, chicken, chimp, dog, eel, elephant, frog, gorilla, macaque monkey, mouse, orangutan, pig). Write out a ranked list with the species you think is most related to humans at the top.\n",
    "\n",
    "Then calculate the percent difference between the hemoglobin amino acid sequences of humans and each species to find out how close you came to the right ranking!"
   ]
  },
  {
   "cell_type": "code",
   "execution_count": null,
   "metadata": {
    "collapsed": true,
    "deletable": true,
    "editable": true
   },
   "outputs": [],
   "source": []
  }
 ],
 "metadata": {
  "kernelspec": {
   "display_name": "Python 3",
   "language": "python",
   "name": "python3"
  },
  "language_info": {
   "codemirror_mode": {
    "name": "ipython",
    "version": 3
   },
   "file_extension": ".py",
   "mimetype": "text/x-python",
   "name": "python",
   "nbconvert_exporter": "python",
   "pygments_lexer": "ipython3",
   "version": "3.5.2"
  }
 },
 "nbformat": 4,
 "nbformat_minor": 2
}
