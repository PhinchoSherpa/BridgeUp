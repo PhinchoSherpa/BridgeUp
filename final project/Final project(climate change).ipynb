{
 "cells": [
  {
   "cell_type": "code",
   "execution_count": 2,
   "metadata": {
    "collapsed": true,
    "deletable": true,
    "editable": true
   },
   "outputs": [],
   "source": [
    "#importing libraries\n",
    "import numpy as np\n",
    "import matplotlib.pyplot as plt\n",
    "import pandas as pd "
   ]
  },
  {
   "cell_type": "code",
   "execution_count": 3,
   "metadata": {
    "collapsed": true,
    "deletable": true,
    "editable": true
   },
   "outputs": [],
   "source": [
    "def mean(file,place): #function\n",
    "    df=pd.read_csv(file)\n",
    "    year2013=df.loc[df['Year']==2013]\n",
    "    year2014=df.loc[df['Year']==2014]\n",
    "    year2015=df.loc[df['Year']==2015]\n",
    "    year2016=df.loc[df['Year']==2016]\n",
    "    year2017=df.loc[df['Year']==2017]\n",
    "    year2018=df.loc[df['Year']==2018]\n",
    "#group data for a given year by month and calculate the mean temperature for the month\n",
    "    groupby_month2013 = year2013[\"Sea_Surface_Temperature\"].groupby(year2013[\"Month\"]).mean()\n",
    "    groupby_month2014 = year2014[\"Sea_Surface_Temperature\"].groupby(year2014[\"Month\"]).mean()\n",
    "    groupby_month2015 = year2015[\"Sea_Surface_Temperature\"].groupby(year2015[\"Month\"]).mean()\n",
    "    groupby_month2016 = year2016[\"Sea_Surface_Temperature\"].groupby(year2016[\"Month\"]).mean()\n",
    "    groupby_month2017 = year2017[\"Sea_Surface_Temperature\"].groupby(year2017[\"Month\"]).mean()\n",
    "    groupby_month2018 = year2018[\"Sea_Surface_Temperature\"].groupby(year2018[\"Month\"]).mean()\n",
    "    groupby_month=pd.concat([groupby_month2013,groupby_month2014,groupby_month2015,\n",
    "                             groupby_month2016,groupby_month2017,groupby_month2018])\n",
    "    groupby_month.to_csv(place+\"Bleaching_Monthmean.csv\",header=[\"Mean\"])\n"
   ]
  },
  {
   "cell_type": "code",
   "execution_count": 4,
   "metadata": {
    "collapsed": false,
    "deletable": true,
    "editable": true
   },
   "outputs": [],
   "source": [
    "#using the function for Hawaii and Florida.\n",
    "mean(\"Florida_Keys_Bleaching.csv\",\"Florida\")\n",
    "mean(\"Hawaii_Bleaching.csv\",\"Hawaii \")"
   ]
  },
  {
   "cell_type": "code",
   "execution_count": 10,
   "metadata": {
    "collapsed": false,
    "deletable": true,
    "editable": true
   },
   "outputs": [],
   "source": [
    "#Assigning the file to a variable.\n",
    "monthMF=pd.read_csv(\"FloridaBleaching_Monthmean.csv\")\n",
    "monthMH=pd.read_csv(\"Hawaii Bleaching_Monthmean.csv\")"
   ]
  },
  {
   "cell_type": "code",
   "execution_count": 11,
   "metadata": {
    "collapsed": false,
    "deletable": true,
    "editable": true
   },
   "outputs": [],
   "source": [
    "#Assigning the variable to the year 2014 and changing it into a csv file.\n",
    "year14H=monthMH.loc[10:21]\n",
    "year14H.to_csv(\"Year14HBleaching_Monthmean.csv\")"
   ]
  },
  {
   "cell_type": "code",
   "execution_count": null,
   "metadata": {
    "collapsed": true,
    "deletable": true,
    "editable": true
   },
   "outputs": [],
   "source": [
    "year17H=monthMH.loc[46:57]\n",
    "year17H.to_csv(\"Year17HBleaching_Monthmean.csv\")"
   ]
  },
  {
   "cell_type": "code",
   "execution_count": null,
   "metadata": {
    "collapsed": true,
    "deletable": true,
    "editable": true
   },
   "outputs": [],
   "source": [
    "year14h=pd.read_csv(\"Year14HBleaching_Monthmean.csv\")\n",
    "year17h=pd.read_csv(\"Year17HBleaching_Monthmean.csv\")"
   ]
  },
  {
   "cell_type": "code",
   "execution_count": 82,
   "metadata": {
    "collapsed": true,
    "deletable": true,
    "editable": true
   },
   "outputs": [],
   "source": [
    "#Naming the ticks.\n",
    "months=[\"Jan\",\"Feb\",\"Mar\",\"April\",\"May\",\"June\",\"July\",\"Aug\",\"Sept\",\"Oct\",\"Nov\",\"Dec\"]\n",
    "months_num=[1,2,3,4,5,6,7,8,9,10,11,12]"
   ]
  },
  {
   "cell_type": "code",
   "execution_count": 109,
   "metadata": {
    "collapsed": false,
    "deletable": true,
    "editable": true
   },
   "outputs": [
    {
     "data": {
      "image/png": "[encoded data removed]",
      "text/plain": [
       "<matplotlib.figure.Figure at 0x11a221940>"
      ]
     },
     "metadata": {},
     "output_type": "display_data"
    }
   ],
   "source": [
    "#bar graph for hawaii 2014.\n",
    "plt.bar(year14h[\"Month\"],year14h[\"Mean\"],color='orange')\n",
    "plt.xlabel(\"Month\")\n",
    "plt.ylabel(\"Temperature($^\\circ$C)\")\n",
    "plt.title(\"Hawaii Sea Surface Temperature 2014\")\n",
    "plt.xticks(months_num,months)\n",
    "plt.ylim(22,29)\n",
    "plt.axhline(y=25.1,color='black')\n",
    "plt.axhline(y=28.2,color='black')\n",
    "plt.savefig(\"Hawaii Sea Surface Temperature(2014).png\",bbox_inches='tight')\n",
    "plt.show()"
   ]
  },
  {
   "cell_type": "code",
   "execution_count": 110,
   "metadata": {
    "collapsed": false,
    "deletable": true,
    "editable": true
   },
   "outputs": [
    {
     "data": {
      "image/png": "[encoded data removed]",
      "text/plain": [
       "<matplotlib.figure.Figure at 0x11e830fd0>"
      ]
     },
     "metadata": {},
     "output_type": "display_data"
    }
   ],
   "source": [
    "#bar graph for Hawaii 2017.\n",
    "plt.bar(year17h[\"Month\"],year17h[\"Mean\"],color='orange')\n",
    "plt.xlabel(\"Month\")\n",
    "plt.ylabel(\"Temperature($^\\circ$C) \")\n",
    "plt.title(\"Hawaii Sea Surface Temperature 2017\")\n",
    "plt.xticks(months_num,months)\n",
    "plt.ylim(22,29)\n",
    "plt.axhline(y=25.1,color='black')\n",
    "plt.axhline(y=28.2,color='black')\n",
    "plt.savefig(\"Hawaii Sea Surface Temperature(2017).png\",bbox_inches='tight')\n",
    "plt.show()"
   ]
  },
  {
   "cell_type": "code",
   "execution_count": 106,
   "metadata": {
    "collapsed": false,
    "deletable": true,
    "editable": true
   },
   "outputs": [],
   "source": [
    "#Assigning the variable to the year 2014 and changing it into a csv file.\n",
    "year14F=monthMF.loc[10:21]\n",
    "year14F.to_csv(\"Year14FBleaching_Monthmean.csv\")\n"
   ]
  },
  {
   "cell_type": "code",
   "execution_count": 107,
   "metadata": {
    "collapsed": false,
    "deletable": true,
    "editable": true
   },
   "outputs": [],
   "source": [
    "#Assigning the variable to the year 2017 and changing it into a csv file.\n",
    "year17F=monthMF.loc[46:57]\n",
    "year17F.to_csv(\"Year17FBleaching_Monthmean.csv\")"
   ]
  },
  {
   "cell_type": "code",
   "execution_count": 87,
   "metadata": {
    "collapsed": true,
    "deletable": true,
    "editable": true
   },
   "outputs": [],
   "source": [
    "#Assigning the file a variable.\n",
    "year14f=pd.read_csv(\"Year14FBleaching_Monthmean.csv\")\n",
    "year17f=pd.read_csv(\"Year17FBleaching_Monthmean.csv\")"
   ]
  },
  {
   "cell_type": "code",
   "execution_count": 102,
   "metadata": {
    "collapsed": false,
    "deletable": true,
    "editable": true
   },
   "outputs": [
    {
     "data": {
      "image/png": "[encoded data removed]",
      "text/plain": [
       "<matplotlib.figure.Figure at 0x11e075da0>"
      ]
     },
     "metadata": {},
     "output_type": "display_data"
    }
   ],
   "source": [
    "#bar graph for Florida Keys 2014.\n",
    "plt.bar(year14f[\"Month\"],year14f[\"Mean\"],color='blue')\n",
    "plt.xlabel(\"Month\")\n",
    "plt.ylabel(\"Temperature($^\\circ$C) \")\n",
    "plt.title(\"Florida Keys Sea Surface Temperature 2014\")\n",
    "plt.xticks(months_num,months)\n",
    "plt.ylim(22,34)\n",
    "plt.axhline(y=31.4,color='red')\n",
    "plt.axhline(y=25,color='red')\n",
    "plt.savefig(\"Florida Keys Sea Surface Temperature(2014).png\",bbox_inches='tight')\n",
    "plt.show()"
   ]
  },
  {
   "cell_type": "code",
   "execution_count": 100,
   "metadata": {
    "collapsed": false,
    "deletable": true,
    "editable": true
   },
   "outputs": [
    {
     "data": {
      "image/png": "[encoded data removed]",
      "text/plain": [
       "<matplotlib.figure.Figure at 0x11a8d3908>"
      ]
     },
     "metadata": {},
     "output_type": "display_data"
    }
   ],
   "source": [
    "#bar graph for Florida Keys 2017.\n",
    "plt.bar(year17f[\"Month\"],year17f[\"Mean\"],color='blue')\n",
    "plt.xlabel(\"Month\")\n",
    "plt.ylabel(\"Temperature($^\\circ$C) \")\n",
    "plt.title(\"Florida Keys Sea Surface Temperature 2017\")\n",
    "plt.xticks(months_num,months)\n",
    "plt.ylim(22,34)\n",
    "plt.axhline(y=31.4,color='red')\n",
    "plt.axhline(y=25,color='red')\n",
    "plt.savefig(\"Florida Keys Sea Surface Temperature(2017).png\",bbox_inches='tight')\n",
    "plt.show()"
   ]
  }
 ],
 "metadata": {
  "kernelspec": {
   "display_name": "Python 3",
   "language": "python",
   "name": "python3"
  },
  "language_info": {
   "codemirror_mode": {
    "name": "ipython",
    "version": 3
   },
   "file_extension": ".py",
   "mimetype": "text/x-python",
   "name": "python",
   "nbconvert_exporter": "python",
   "pygments_lexer": "ipython3",
   "version": "3.5.2"
  }
 },
 "nbformat": 4,
 "nbformat_minor": 2
}
