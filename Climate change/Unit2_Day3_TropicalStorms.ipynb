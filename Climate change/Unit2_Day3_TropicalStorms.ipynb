{
 "cells": [
  {
   "cell_type": "markdown",
   "metadata": {
    "deletable": true,
    "editable": true
   },
   "source": [
    "# Tropical Storms: Practice with matplotlib and pandas\n",
    "\n",
    "In this notebook you'll recreate graphs from the EPA about tropical storms. Work with your partner to take turns writing the code.\n",
    "\n",
    "**Reminder: To run the code in a Jupyter Notebook cell, click inside the cell and press \"shift\" and \"return\" on your keyboard at the same time.**"
   ]
  },
  {
   "cell_type": "markdown",
   "metadata": {
    "deletable": true,
    "editable": true
   },
   "source": [
    "### Graph 1: Cyclone energy over time\n",
    "\n",
    "This dataset has annual records of Accumulated Cyclone Energy (ACE) Index values, which account for cyclone strength, duration, and frequency."
   ]
  },
  {
   "cell_type": "markdown",
   "metadata": {
    "deletable": true,
    "editable": true
   },
   "source": [
    "Partner 1: Import pandas and matplotlib.pyplot"
   ]
  },
  {
   "cell_type": "code",
   "execution_count": 2,
   "metadata": {
    "collapsed": false,
    "deletable": true,
    "editable": true
   },
   "outputs": [],
   "source": [
    "import pandas as pd\n",
    "import matplotlib.pyplot as plt\n"
   ]
  },
  {
   "cell_type": "markdown",
   "metadata": {
    "deletable": true,
    "editable": true
   },
   "source": [
    "Partner 2: Import the data for the first graph from the EPA and create a pandas dataframe. "
   ]
  },
  {
   "cell_type": "code",
   "execution_count": 5,
   "metadata": {
    "collapsed": true,
    "deletable": true,
    "editable": true
   },
   "outputs": [],
   "source": [
    "df = pd.read_csv(\"cyclones_fig-2.csv\")"
   ]
  },
  {
   "cell_type": "markdown",
   "metadata": {
    "deletable": true,
    "editable": true
   },
   "source": [
    "Partner 1: Print out the \"head\" of this dataframe to see what the data looks like:"
   ]
  },
  {
   "cell_type": "code",
   "execution_count": 6,
   "metadata": {
    "collapsed": false,
    "deletable": true,
    "editable": true
   },
   "outputs": [
    {
     "data": {
      "text/html": [
       "<div>\n",
       "<style>\n",
       "    .dataframe thead tr:only-child th {\n",
       "        text-align: right;\n",
       "    }\n",
       "\n",
       "    .dataframe thead th {\n",
       "        text-align: left;\n",
       "    }\n",
       "\n",
       "    .dataframe tbody tr th {\n",
       "        vertical-align: top;\n",
       "    }\n",
       "</style>\n",
       "<table border=\"1\" class=\"dataframe\">\n",
       "  <thead>\n",
       "    <tr style=\"text-align: right;\">\n",
       "      <th></th>\n",
       "      <th>Year</th>\n",
       "      <th>ACE Index (Percent of median)</th>\n",
       "    </tr>\n",
       "  </thead>\n",
       "  <tbody>\n",
       "    <tr>\n",
       "      <th>0</th>\n",
       "      <td>1950</td>\n",
       "      <td>228.108108</td>\n",
       "    </tr>\n",
       "    <tr>\n",
       "      <th>1</th>\n",
       "      <td>1951</td>\n",
       "      <td>136.216216</td>\n",
       "    </tr>\n",
       "    <tr>\n",
       "      <th>2</th>\n",
       "      <td>1952</td>\n",
       "      <td>74.594595</td>\n",
       "    </tr>\n",
       "    <tr>\n",
       "      <th>3</th>\n",
       "      <td>1953</td>\n",
       "      <td>107.027027</td>\n",
       "    </tr>\n",
       "    <tr>\n",
       "      <th>4</th>\n",
       "      <td>1954</td>\n",
       "      <td>120.000000</td>\n",
       "    </tr>\n",
       "  </tbody>\n",
       "</table>\n",
       "</div>"
      ],
      "text/plain": [
       "   Year  ACE Index (Percent of median)\n",
       "0  1950                     228.108108\n",
       "1  1951                     136.216216\n",
       "2  1952                      74.594595\n",
       "3  1953                     107.027027\n",
       "4  1954                     120.000000"
      ]
     },
     "execution_count": 6,
     "metadata": {},
     "output_type": "execute_result"
    }
   ],
   "source": [
    "df.head()"
   ]
  },
  {
   "cell_type": "markdown",
   "metadata": {
    "deletable": true,
    "editable": true
   },
   "source": [
    "Partner 2: Isolate each data column using a pandas index and assign them to variables:"
   ]
  },
  {
   "cell_type": "code",
   "execution_count": 7,
   "metadata": {
    "collapsed": true,
    "deletable": true,
    "editable": true
   },
   "outputs": [],
   "source": [
    "years=df[\"Year\"]\n",
    "index=df[\"ACE Index (Percent of median)\"]"
   ]
  },
  {
   "cell_type": "markdown",
   "metadata": {
    "deletable": true,
    "editable": true
   },
   "source": [
    "Partner 1: Print out the \"head\" of these columns:"
   ]
  },
  {
   "cell_type": "code",
   "execution_count": 8,
   "metadata": {
    "collapsed": false,
    "deletable": true,
    "editable": true
   },
   "outputs": [
    {
     "name": "stdout",
     "output_type": "stream",
     "text": [
      "0    1950\n",
      "1    1951\n",
      "2    1952\n",
      "3    1953\n",
      "4    1954\n",
      "Name: Year, dtype: int64\n",
      "0    228.108108\n",
      "1    136.216216\n",
      "2     74.594595\n",
      "3    107.027027\n",
      "4    120.000000\n",
      "Name: ACE Index (Percent of median), dtype: float64\n"
     ]
    }
   ],
   "source": [
    "print(years.head())\n",
    "print(index.head())"
   ]
  },
  {
   "cell_type": "code",
   "execution_count": 13,
   "metadata": {
    "collapsed": false,
    "deletable": true,
    "editable": true
   },
   "outputs": [
    {
     "name": "stdout",
     "output_type": "stream",
     "text": [
      "2015\n"
     ]
    }
   ],
   "source": [
    "print(years.max())\n"
   ]
  },
  {
   "cell_type": "markdown",
   "metadata": {
    "deletable": true,
    "editable": true
   },
   "source": [
    "Partner 2: Use the matplotlib plt.bar() function to create a bar graph with this data:"
   ]
  },
  {
   "cell_type": "code",
   "execution_count": 12,
   "metadata": {
    "collapsed": false,
    "deletable": true,
    "editable": true
   },
   "outputs": [
    {
     "data": {
      "image/png": "[encoded data removed]",
      "text/plain": [
       "<matplotlib.figure.Figure at 0x11e181048>"
      ]
     },
     "metadata": {},
     "output_type": "display_data"
    }
   ],
   "source": [
    "# Hint: You need to specify the x data and the y data for the bar graph\n",
    "plt.bar(years, index, width = 1,color=\"black\")\n",
    "plt.title(\"Tropical Storms:Cyclones\")\n",
    "plt.xlabel(\"Years\")\n",
    "plt.ylabel(\"ACE Index (Percent of median)\")\n",
    "plt.xlim(1950, 1955)\n",
    "plt.xticks(range(1950, 1955, 1))\n",
    "plt.show()"
   ]
  },
  {
   "cell_type": "markdown",
   "metadata": {
    "deletable": true,
    "editable": true
   },
   "source": [
    "### Graph 2: Number of hurricanes in the North Atlantic\n",
    "This dataset has records of the total number hurricanes in the North Atlantic, an adjusted number that accounts for the lack of aircraft and satellite observations in early years, and a record of the number of hurricanes reaching the United States."
   ]
  },
  {
   "cell_type": "markdown",
   "metadata": {
    "deletable": true,
    "editable": true
   },
   "source": [
    "Partner 1: Import the data for the second graph from the EPA and create a pandas dataframe. **Remember to use a new variable name!**"
   ]
  },
  {
   "cell_type": "code",
   "execution_count": 14,
   "metadata": {
    "collapsed": true,
    "deletable": true,
    "editable": true
   },
   "outputs": [],
   "source": [
    "pd2= pd.read_csv(\"cyclones_fig-1.csv\")"
   ]
  },
  {
   "cell_type": "markdown",
   "metadata": {
    "deletable": true,
    "editable": true
   },
   "source": [
    "Partner 2: Print out the \"head\" of this dataframe and see what the data looks like:"
   ]
  },
  {
   "cell_type": "code",
   "execution_count": 15,
   "metadata": {
    "collapsed": false,
    "deletable": true,
    "editable": true
   },
   "outputs": [
    {
     "data": {
      "text/html": [
       "<div>\n",
       "<style>\n",
       "    .dataframe thead tr:only-child th {\n",
       "        text-align: right;\n",
       "    }\n",
       "\n",
       "    .dataframe thead th {\n",
       "        text-align: left;\n",
       "    }\n",
       "\n",
       "    .dataframe tbody tr th {\n",
       "        vertical-align: top;\n",
       "    }\n",
       "</style>\n",
       "<table border=\"1\" class=\"dataframe\">\n",
       "  <thead>\n",
       "    <tr style=\"text-align: right;\">\n",
       "      <th></th>\n",
       "      <th>Year</th>\n",
       "      <th>Total hurricanes (adjusted)</th>\n",
       "      <th>Total hurricanes (unadjusted)</th>\n",
       "      <th>Hurricanes reaching the United States</th>\n",
       "    </tr>\n",
       "  </thead>\n",
       "  <tbody>\n",
       "    <tr>\n",
       "      <th>0</th>\n",
       "      <td>1880</td>\n",
       "      <td>9.63874</td>\n",
       "      <td>6.6</td>\n",
       "      <td>2.6</td>\n",
       "    </tr>\n",
       "    <tr>\n",
       "      <th>1</th>\n",
       "      <td>1881</td>\n",
       "      <td>8.24872</td>\n",
       "      <td>5.2</td>\n",
       "      <td>2.4</td>\n",
       "    </tr>\n",
       "    <tr>\n",
       "      <th>2</th>\n",
       "      <td>1882</td>\n",
       "      <td>7.82772</td>\n",
       "      <td>4.8</td>\n",
       "      <td>1.8</td>\n",
       "    </tr>\n",
       "    <tr>\n",
       "      <th>3</th>\n",
       "      <td>1883</td>\n",
       "      <td>7.23736</td>\n",
       "      <td>4.2</td>\n",
       "      <td>1.2</td>\n",
       "    </tr>\n",
       "    <tr>\n",
       "      <th>4</th>\n",
       "      <td>1884</td>\n",
       "      <td>8.38944</td>\n",
       "      <td>5.4</td>\n",
       "      <td>2.2</td>\n",
       "    </tr>\n",
       "  </tbody>\n",
       "</table>\n",
       "</div>"
      ],
      "text/plain": [
       "   Year  Total hurricanes (adjusted)  Total hurricanes (unadjusted)  \\\n",
       "0  1880                      9.63874                            6.6   \n",
       "1  1881                      8.24872                            5.2   \n",
       "2  1882                      7.82772                            4.8   \n",
       "3  1883                      7.23736                            4.2   \n",
       "4  1884                      8.38944                            5.4   \n",
       "\n",
       "   Hurricanes reaching the United States  \n",
       "0                                    2.6  \n",
       "1                                    2.4  \n",
       "2                                    1.8  \n",
       "3                                    1.2  \n",
       "4                                    2.2  "
      ]
     },
     "execution_count": 15,
     "metadata": {},
     "output_type": "execute_result"
    }
   ],
   "source": [
    "pd2.head()"
   ]
  },
  {
   "cell_type": "markdown",
   "metadata": {
    "deletable": true,
    "editable": true
   },
   "source": [
    "Partner 1: Isolate all four columns and assign them to new variables:"
   ]
  },
  {
   "cell_type": "code",
   "execution_count": 18,
   "metadata": {
    "collapsed": false,
    "deletable": true,
    "editable": true
   },
   "outputs": [],
   "source": [
    "year=pd2[\"Year\"]\n",
    "hurricanes_a=pd2[\"Total hurricanes (adjusted)\"]\n",
    "hurricanes_u=pd2[\"Total hurricanes (unadjusted)\"]\n",
    "hurricanes_usa=pd2[\"Hurricanes reaching the United States\"]"
   ]
  },
  {
   "cell_type": "markdown",
   "metadata": {
    "deletable": true,
    "editable": true
   },
   "source": [
    "Partner 2: Print out the \"head\" of these columns:"
   ]
  },
  {
   "cell_type": "code",
   "execution_count": 19,
   "metadata": {
    "collapsed": false,
    "deletable": true,
    "editable": true
   },
   "outputs": [
    {
     "name": "stdout",
     "output_type": "stream",
     "text": [
      "0    1880\n",
      "1    1881\n",
      "2    1882\n",
      "3    1883\n",
      "4    1884\n",
      "Name: Year, dtype: int64\n",
      "0    9.63874\n",
      "1    8.24872\n",
      "2    7.82772\n",
      "3    7.23736\n",
      "4    8.38944\n",
      "Name: Total hurricanes (adjusted), dtype: float64\n",
      "0    6.6\n",
      "1    5.2\n",
      "2    4.8\n",
      "3    4.2\n",
      "4    5.4\n",
      "Name: Total hurricanes (unadjusted), dtype: float64\n",
      "0    2.6\n",
      "1    2.4\n",
      "2    1.8\n",
      "3    1.2\n",
      "4    2.2\n",
      "Name: Hurricanes reaching the United States, dtype: float64\n"
     ]
    }
   ],
   "source": [
    "print(year.head())\n",
    "print(hurricanes_a.head())\n",
    "print(hurricanes_u.head())\n",
    "print(hurricanes_usa.head())"
   ]
  },
  {
   "cell_type": "markdown",
   "metadata": {
    "deletable": true,
    "editable": true
   },
   "source": [
    "Partner 1: Use the matplotlib plt.plot() function to make a line graph with this data."
   ]
  },
  {
   "cell_type": "code",
   "execution_count": 20,
   "metadata": {
    "collapsed": false,
    "deletable": true,
    "editable": true
   },
   "outputs": [
    {
     "data": {
      "image/png": "[encoded data removed]",
      "text/plain": [
       "<matplotlib.figure.Figure at 0x11e12aa90>"
      ]
     },
     "metadata": {},
     "output_type": "display_data"
    }
   ],
   "source": [
    "# Hint: You can create three different lines and then just use one plt.show() to put all three lines on the same graph.\n",
    "plt.plot(year, hurricanes_a, color = \"black\")\n",
    "plt.plot(year,hurricanes_u, color = \"blue\")\n",
    "plt.plot(year,hurricanes_usa, color = \"red\")\n",
    "plt.title(\"Tropical Storms\")\n",
    "plt.xlabel(\"Year\")\n",
    "plt.ylabel(\"Hurricanes\")\n",
    "plt.legend()\n",
    "plt.show()\n"
   ]
  },
  {
   "cell_type": "markdown",
   "metadata": {
    "deletable": true,
    "editable": true
   },
   "source": [
    "### Coding Challenge: Power dissipation of North Atlantic tropical cyclone activity and temperature\n",
    "This dataset has a record of sea surface temperature and Power Dissipation Index (PDI), which accounts for cyclone strength, duration, and frequency."
   ]
  },
  {
   "cell_type": "markdown",
   "metadata": {
    "deletable": true,
    "editable": true
   },
   "source": [
    "Work together to import this data as a dataframe, isolate the columns, and create a line graph using matplotlib.pyplot. Try to plot both lines on one graph.\n",
    "\n",
    "Hint: Add the function plt.twinx() (with nothing in the parentheses) in between your two plt.plot() functions."
   ]
  },
  {
   "cell_type": "code",
   "execution_count": 37,
   "metadata": {
    "collapsed": false,
    "deletable": true,
    "editable": true
   },
   "outputs": [],
   "source": [
    "model3=pd.read_csv(\"cyclones_fig-3.csv\")\n"
   ]
  },
  {
   "cell_type": "code",
   "execution_count": 33,
   "metadata": {
    "collapsed": false,
    "deletable": true,
    "editable": true
   },
   "outputs": [
    {
     "data": {
      "text/html": [
       "<div>\n",
       "<style>\n",
       "    .dataframe thead tr:only-child th {\n",
       "        text-align: right;\n",
       "    }\n",
       "\n",
       "    .dataframe thead th {\n",
       "        text-align: left;\n",
       "    }\n",
       "\n",
       "    .dataframe tbody tr th {\n",
       "        vertical-align: top;\n",
       "    }\n",
       "</style>\n",
       "<table border=\"1\" class=\"dataframe\">\n",
       "  <thead>\n",
       "    <tr style=\"text-align: right;\">\n",
       "      <th></th>\n",
       "      <th>Year</th>\n",
       "      <th>Smoothed sea surface temperature</th>\n",
       "      <th>Smoothed Power Dissipation Index</th>\n",
       "    </tr>\n",
       "  </thead>\n",
       "  <tbody>\n",
       "    <tr>\n",
       "      <th>2</th>\n",
       "      <td>1951</td>\n",
       "      <td>82.10660</td>\n",
       "      <td>2.7846</td>\n",
       "    </tr>\n",
       "    <tr>\n",
       "      <th>3</th>\n",
       "      <td>1952</td>\n",
       "      <td>82.21388</td>\n",
       "      <td>2.3445</td>\n",
       "    </tr>\n",
       "    <tr>\n",
       "      <th>4</th>\n",
       "      <td>1953</td>\n",
       "      <td>82.15412</td>\n",
       "      <td>2.2639</td>\n",
       "    </tr>\n",
       "    <tr>\n",
       "      <th>5</th>\n",
       "      <td>1954</td>\n",
       "      <td>82.01354</td>\n",
       "      <td>2.4730</td>\n",
       "    </tr>\n",
       "    <tr>\n",
       "      <th>6</th>\n",
       "      <td>1955</td>\n",
       "      <td>81.94550</td>\n",
       "      <td>2.4041</td>\n",
       "    </tr>\n",
       "  </tbody>\n",
       "</table>\n",
       "</div>"
      ],
      "text/plain": [
       "   Year  Smoothed sea surface temperature  Smoothed Power Dissipation Index\n",
       "2  1951                          82.10660                            2.7846\n",
       "3  1952                          82.21388                            2.3445\n",
       "4  1953                          82.15412                            2.2639\n",
       "5  1954                          82.01354                            2.4730\n",
       "6  1955                          81.94550                            2.4041"
      ]
     },
     "execution_count": 33,
     "metadata": {},
     "output_type": "execute_result"
    }
   ],
   "source": [
    "clear=model3.dropna()\n",
    "clear.head()"
   ]
  },
  {
   "cell_type": "code",
   "execution_count": 39,
   "metadata": {
    "collapsed": true,
    "deletable": true,
    "editable": true
   },
   "outputs": [],
   "source": [
    "year3=clear[\"Year\"]\n",
    "surf_temp=clear[\"Smoothed sea surface temperature\"]\n",
    "pdi=clear[\"Smoothed Power Dissipation Index\"]\n"
   ]
  },
  {
   "cell_type": "code",
   "execution_count": 40,
   "metadata": {
    "collapsed": false,
    "deletable": true,
    "editable": true
   },
   "outputs": [
    {
     "name": "stdout",
     "output_type": "stream",
     "text": [
      "2    1951\n",
      "3    1952\n",
      "4    1953\n",
      "5    1954\n",
      "6    1955\n",
      "Name: Year, dtype: int64\n",
      "2    82.10660\n",
      "3    82.21388\n",
      "4    82.15412\n",
      "5    82.01354\n",
      "6    81.94550\n",
      "Name: Smoothed sea surface temperature, dtype: float64\n",
      "2    2.7846\n",
      "3    2.3445\n",
      "4    2.2639\n",
      "5    2.4730\n",
      "6    2.4041\n",
      "Name: Smoothed Power Dissipation Index, dtype: float64\n"
     ]
    }
   ],
   "source": [
    "print(year3.head())\n",
    "print(surf_temp.head())\n",
    "print(pdi.head())"
   ]
  },
  {
   "cell_type": "code",
   "execution_count": 44,
   "metadata": {
    "collapsed": false,
    "deletable": true,
    "editable": true
   },
   "outputs": [
    {
     "data": {
      "image/png": "[encoded data removed]",
      "text/plain": [
       "<matplotlib.figure.Figure at 0x11ddd6be0>"
      ]
     },
     "metadata": {},
     "output_type": "display_data"
    }
   ],
   "source": [
    "plt.plot(year3,surf_temp, color = \"red\")\n",
    "plt.legend(loc = \"lower right\")\n",
    "plt.twinx()\n",
    "plt.plot(year3,pdi, color = \"blue\")\n",
    "plt.legend()\n",
    "\n",
    "plt.title(\"Power dissipation of North Atlantic\")\n",
    "plt.xlabel(\"Year\")\n",
    "plt.ylabel(\"Temp and Index\")\n",
    "\n",
    "plt.show()"
   ]
  },
  {
   "cell_type": "code",
   "execution_count": null,
   "metadata": {
    "collapsed": true,
    "deletable": true,
    "editable": true
   },
   "outputs": [],
   "source": []
  }
 ],
 "metadata": {
  "kernelspec": {
   "display_name": "Python 3",
   "language": "python",
   "name": "python3"
  },
  "language_info": {
   "codemirror_mode": {
    "name": "ipython",
    "version": 3
   },
   "file_extension": ".py",
   "mimetype": "text/x-python",
   "name": "python",
   "nbconvert_exporter": "python",
   "pygments_lexer": "ipython3",
   "version": "3.5.2"
  }
 },
 "nbformat": 4,
 "nbformat_minor": 2
}
