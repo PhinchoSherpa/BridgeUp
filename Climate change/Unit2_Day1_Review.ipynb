{
 "cells": [
  {
   "cell_type": "markdown",
   "metadata": {
    "deletable": true,
    "editable": true
   },
   "source": [
    "# Week 1 review\n",
    "\n",
    "Let's review what we learned in the first week. The first group to complete the review successfully will win stickers! \n",
    "\n",
    "**Reminder: To run the code in a Jupyter Notebook cell, click inside the cell and press \"shift\" and \"return\" on your keyboard at the same time.**"
   ]
  },
  {
   "cell_type": "markdown",
   "metadata": {
    "deletable": true,
    "editable": true
   },
   "source": [
    "Create four variables that hold any values you like. Then print out the sum of two of those variables that can be added together:"
   ]
  },
  {
   "cell_type": "code",
   "execution_count": 1,
   "metadata": {
    "collapsed": false,
    "deletable": true,
    "editable": true
   },
   "outputs": [
    {
     "name": "stdout",
     "output_type": "stream",
     "text": [
      "10\n"
     ]
    }
   ],
   "source": [
    "var1=[1]\n",
    "var2=[\"Hi\"]\n",
    "var3=[9]\n",
    "var4=[\"everyone\"]\n",
    "print(sum(var1+var3))"
   ]
  },
  {
   "cell_type": "markdown",
   "metadata": {
    "deletable": true,
    "editable": true
   },
   "source": [
    "Create a list that contains all of the variables you created above. Print out the length of that list using the len() function:"
   ]
  },
  {
   "cell_type": "code",
   "execution_count": 2,
   "metadata": {
    "collapsed": false,
    "deletable": true,
    "editable": true
   },
   "outputs": [
    {
     "name": "stdout",
     "output_type": "stream",
     "text": [
      "4\n"
     ]
    }
   ],
   "source": [
    "review_list = [var1,var2,var3,var4]\n",
    "print(len(review_list))"
   ]
  },
  {
   "cell_type": "markdown",
   "metadata": {
    "deletable": true,
    "editable": true
   },
   "source": [
    "Run the following code to print out the first item of the list. Then change the number in the index to print out the second item of the list:"
   ]
  },
  {
   "cell_type": "code",
   "execution_count": 4,
   "metadata": {
    "collapsed": false,
    "deletable": true,
    "editable": true
   },
   "outputs": [
    {
     "name": "stdout",
     "output_type": "stream",
     "text": [
      "['Hi']\n"
     ]
    }
   ],
   "source": [
    "print(review_list[1])"
   ]
  },
  {
   "cell_type": "markdown",
   "metadata": {
    "deletable": true,
    "editable": true
   },
   "source": [
    "Using an index and conditionals, print out \"The first item is less than 5\" or \"The first item is not less than 5\" based on the value of the first item in the following list:"
   ]
  },
  {
   "cell_type": "code",
   "execution_count": 8,
   "metadata": {
    "collapsed": false,
    "deletable": true,
    "editable": true
   },
   "outputs": [
    {
     "name": "stdout",
     "output_type": "stream",
     "text": [
      "the first item is less than 5\n"
     ]
    }
   ],
   "source": [
    "data_list = [2, 10, 3.5, 5, 7, 1, 8]\n",
    "if data_list[0] < 5:\n",
    "    print(\"the first item is less than 5\")\n"
   ]
  },
  {
   "cell_type": "markdown",
   "metadata": {
    "deletable": true,
    "editable": true
   },
   "source": [
    "Now write a \"for loop\" that adds all values in data_list that are greater than 5 to a new list:"
   ]
  },
  {
   "cell_type": "code",
   "execution_count": 31,
   "metadata": {
    "collapsed": false,
    "deletable": true,
    "editable": true
   },
   "outputs": [
    {
     "name": "stdout",
     "output_type": "stream",
     "text": [
      "[10, 7, 8]\n"
     ]
    }
   ],
   "source": [
    "# Hint: You will need the .append() function and an empty list\n",
    "data=[]\n",
    "for item in data_list:\n",
    "    if item>5:\n",
    "        data.append(item)\n",
    "print(data)\n"
   ]
  },
  {
   "cell_type": "markdown",
   "metadata": {
    "deletable": true,
    "editable": true
   },
   "source": [
    "Print out the mean and standard deviation of data_list using numpy:"
   ]
  },
  {
   "cell_type": "code",
   "execution_count": 23,
   "metadata": {
    "collapsed": false,
    "deletable": true,
    "editable": true
   },
   "outputs": [
    {
     "name": "stdout",
     "output_type": "stream",
     "text": [
      "5.21428571429\n",
      "3.04557222933\n"
     ]
    }
   ],
   "source": [
    "import numpy as np\n",
    "print(np.mean(data_list))\n",
    "print(np.std(data_list))"
   ]
  },
  {
   "cell_type": "markdown",
   "metadata": {
    "deletable": true,
    "editable": true
   },
   "source": [
    "### Find the bug #1\n",
    "If you run the line of code below, you'll notice it doesn't work! Find and fix the bug in the code to make it run."
   ]
  },
  {
   "cell_type": "code",
   "execution_count": 32,
   "metadata": {
    "collapsed": false,
    "deletable": true,
    "editable": true
   },
   "outputs": [
    {
     "name": "stdout",
     "output_type": "stream",
     "text": [
      "13\n"
     ]
    }
   ],
   "source": [
    "# This code should add together the first and last value of the list and print out the result\n",
    "bug_list = [\"Hello\", 5, 0, -7, 8, \" world!\"]\n",
    "print(bug_list[1] + bug_list[4])"
   ]
  },
  {
   "cell_type": "markdown",
   "metadata": {
    "deletable": true,
    "editable": true
   },
   "source": [
    "### Find the bug #2\n",
    "If you run the line of code below, you'll notice it doesn't work! Find and fix the bug in the code to make it run."
   ]
  },
  {
   "cell_type": "code",
   "execution_count": 33,
   "metadata": {
    "collapsed": false,
    "deletable": true,
    "editable": true
   },
   "outputs": [
    {
     "name": "stdout",
     "output_type": "stream",
     "text": [
      "The standard deviation is not less than 1\n"
     ]
    }
   ],
   "source": [
    "import numpy as np\n",
    "bug_list_2 = [1.3, 5.0, 9.1, 7.2, 8.5, 9.0]\n",
    "if np.std(bug_list_2) < 1:\n",
    "    print(\"The standard deviation is less than 1\")\n",
    "else:\n",
    "    print(\"The standard deviation is not less than 1\")"
   ]
  },
  {
   "cell_type": "markdown",
   "metadata": {
    "deletable": true,
    "editable": true
   },
   "source": [
    "### Find the bug #3\n",
    "If you run the line of code below, you'll notice it doesn't work! Find and fix the bug in the code to make it run."
   ]
  },
  {
   "cell_type": "code",
   "execution_count": 38,
   "metadata": {
    "collapsed": false,
    "deletable": true,
    "editable": true
   },
   "outputs": [
    {
     "name": "stdout",
     "output_type": "stream",
     "text": [
      "This summer we will learn about The Scientific Method\n",
      "This summer we will learn about Climate Change\n",
      "This summer we will learn about Astrophysics\n",
      "This summer we will learn about Earthquakes\n",
      "This summer we will learn about Molecular Genetics\n"
     ]
    }
   ],
   "source": [
    "bug_list_3 = [\"The Scientific Method\", \"Climate Change\", \"Astrophysics\", \"Earthquakes\",\"Molecular Genetics\"]\n",
    "for unit in bug_list_3:\n",
    "    print(\"This summer we will learn about \"+unit)"
   ]
  },
  {
   "cell_type": "code",
   "execution_count": 39,
   "metadata": {
    "collapsed": false
   },
   "outputs": [
    {
     "ename": "TypeError",
     "evalue": "Can't convert 'list' object to str implicitly",
     "output_type": "error",
     "traceback": [
      "\u001b[0;31m---------------------------------------------------------------------------\u001b[0m",
      "\u001b[0;31mTypeError\u001b[0m                                 Traceback (most recent call last)",
      "\u001b[0;32m<ipython-input-39-a392c9eb485e>\u001b[0m in \u001b[0;36m<module>\u001b[0;34m()\u001b[0m\n\u001b[0;32m----> 1\u001b[0;31m \u001b[0mprint\u001b[0m\u001b[0;34m(\u001b[0m\u001b[0;34m\"this summer we will learn abput\"\u001b[0m\u001b[0;34m+\u001b[0m\u001b[0mbug_list_3\u001b[0m\u001b[0;34m)\u001b[0m\u001b[0;34m\u001b[0m\u001b[0m\n\u001b[0m",
      "\u001b[0;31mTypeError\u001b[0m: Can't convert 'list' object to str implicitly"
     ]
    }
   ],
   "source": [
    "print(\"this summer we will learn abput\"+bug_list_3)"
   ]
  },
  {
   "cell_type": "code",
   "execution_count": null,
   "metadata": {
    "collapsed": true
   },
   "outputs": [],
   "source": []
  }
 ],
 "metadata": {
  "kernelspec": {
   "display_name": "Python 3",
   "language": "python",
   "name": "python3"
  },
  "language_info": {
   "codemirror_mode": {
    "name": "ipython",
    "version": 3
   },
   "file_extension": ".py",
   "mimetype": "text/x-python",
   "name": "python",
   "nbconvert_exporter": "python",
   "pygments_lexer": "ipython3",
   "version": "3.5.2"
  }
 },
 "nbformat": 4,
 "nbformat_minor": 2
}
